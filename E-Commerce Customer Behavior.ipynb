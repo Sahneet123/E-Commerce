{
 "cells": [
  {
   "cell_type": "code",
   "execution_count": 1,
   "id": "ab185339",
   "metadata": {},
   "outputs": [],
   "source": [
    "import pandas as pd\n",
    "import matplotlib.pyplot as plt\n",
    "import seaborn as sns\n",
    "import plotly.express as px\n",
    "import plotly.graph_objects as go\n"
   ]
  },
  {
   "cell_type": "code",
   "execution_count": 2,
   "id": "407c93e0",
   "metadata": {},
   "outputs": [],
   "source": [
    "df=pd.read_csv('E-commerce Customer Behavior - Sheet1.csv')"
   ]
  },
  {
   "cell_type": "code",
   "execution_count": 3,
   "id": "872ff020",
   "metadata": {},
   "outputs": [
    {
     "data": {
      "text/html": [
       "<div>\n",
       "<style scoped>\n",
       "    .dataframe tbody tr th:only-of-type {\n",
       "        vertical-align: middle;\n",
       "    }\n",
       "\n",
       "    .dataframe tbody tr th {\n",
       "        vertical-align: top;\n",
       "    }\n",
       "\n",
       "    .dataframe thead th {\n",
       "        text-align: right;\n",
       "    }\n",
       "</style>\n",
       "<table border=\"1\" class=\"dataframe\">\n",
       "  <thead>\n",
       "    <tr style=\"text-align: right;\">\n",
       "      <th></th>\n",
       "      <th>Customer ID</th>\n",
       "      <th>Gender</th>\n",
       "      <th>Age</th>\n",
       "      <th>City</th>\n",
       "      <th>Membership Type</th>\n",
       "      <th>Total Spend</th>\n",
       "      <th>Items Purchased</th>\n",
       "      <th>Average Rating</th>\n",
       "      <th>Discount Applied</th>\n",
       "      <th>Days Since Last Purchase</th>\n",
       "      <th>Satisfaction Level</th>\n",
       "    </tr>\n",
       "  </thead>\n",
       "  <tbody>\n",
       "    <tr>\n",
       "      <th>0</th>\n",
       "      <td>101</td>\n",
       "      <td>Female</td>\n",
       "      <td>29</td>\n",
       "      <td>New York</td>\n",
       "      <td>Gold</td>\n",
       "      <td>1120.20</td>\n",
       "      <td>14</td>\n",
       "      <td>4.6</td>\n",
       "      <td>True</td>\n",
       "      <td>25</td>\n",
       "      <td>Satisfied</td>\n",
       "    </tr>\n",
       "    <tr>\n",
       "      <th>1</th>\n",
       "      <td>102</td>\n",
       "      <td>Male</td>\n",
       "      <td>34</td>\n",
       "      <td>Los Angeles</td>\n",
       "      <td>Silver</td>\n",
       "      <td>780.50</td>\n",
       "      <td>11</td>\n",
       "      <td>4.1</td>\n",
       "      <td>False</td>\n",
       "      <td>18</td>\n",
       "      <td>Neutral</td>\n",
       "    </tr>\n",
       "    <tr>\n",
       "      <th>2</th>\n",
       "      <td>103</td>\n",
       "      <td>Female</td>\n",
       "      <td>43</td>\n",
       "      <td>Chicago</td>\n",
       "      <td>Bronze</td>\n",
       "      <td>510.75</td>\n",
       "      <td>9</td>\n",
       "      <td>3.4</td>\n",
       "      <td>True</td>\n",
       "      <td>42</td>\n",
       "      <td>Unsatisfied</td>\n",
       "    </tr>\n",
       "    <tr>\n",
       "      <th>3</th>\n",
       "      <td>104</td>\n",
       "      <td>Male</td>\n",
       "      <td>30</td>\n",
       "      <td>San Francisco</td>\n",
       "      <td>Gold</td>\n",
       "      <td>1480.30</td>\n",
       "      <td>19</td>\n",
       "      <td>4.7</td>\n",
       "      <td>False</td>\n",
       "      <td>12</td>\n",
       "      <td>Satisfied</td>\n",
       "    </tr>\n",
       "    <tr>\n",
       "      <th>4</th>\n",
       "      <td>105</td>\n",
       "      <td>Male</td>\n",
       "      <td>27</td>\n",
       "      <td>Miami</td>\n",
       "      <td>Silver</td>\n",
       "      <td>720.40</td>\n",
       "      <td>13</td>\n",
       "      <td>4.0</td>\n",
       "      <td>True</td>\n",
       "      <td>55</td>\n",
       "      <td>Unsatisfied</td>\n",
       "    </tr>\n",
       "  </tbody>\n",
       "</table>\n",
       "</div>"
      ],
      "text/plain": [
       "   Customer ID  Gender  Age           City Membership Type  Total Spend  \\\n",
       "0          101  Female   29       New York            Gold      1120.20   \n",
       "1          102    Male   34    Los Angeles          Silver       780.50   \n",
       "2          103  Female   43        Chicago          Bronze       510.75   \n",
       "3          104    Male   30  San Francisco            Gold      1480.30   \n",
       "4          105    Male   27          Miami          Silver       720.40   \n",
       "\n",
       "   Items Purchased  Average Rating  Discount Applied  \\\n",
       "0               14             4.6              True   \n",
       "1               11             4.1             False   \n",
       "2                9             3.4              True   \n",
       "3               19             4.7             False   \n",
       "4               13             4.0              True   \n",
       "\n",
       "   Days Since Last Purchase Satisfaction Level  \n",
       "0                        25          Satisfied  \n",
       "1                        18            Neutral  \n",
       "2                        42        Unsatisfied  \n",
       "3                        12          Satisfied  \n",
       "4                        55        Unsatisfied  "
      ]
     },
     "execution_count": 3,
     "metadata": {},
     "output_type": "execute_result"
    }
   ],
   "source": [
    "df.head()"
   ]
  },
  {
   "cell_type": "code",
   "execution_count": 4,
   "id": "02cbe9f1",
   "metadata": {},
   "outputs": [
    {
     "data": {
      "text/plain": [
       "Index(['Customer ID', 'Gender', 'Age', 'City', 'Membership Type',\n",
       "       'Total Spend', 'Items Purchased', 'Average Rating', 'Discount Applied',\n",
       "       'Days Since Last Purchase', 'Satisfaction Level'],\n",
       "      dtype='object')"
      ]
     },
     "execution_count": 4,
     "metadata": {},
     "output_type": "execute_result"
    }
   ],
   "source": [
    "df.columns"
   ]
  },
  {
   "cell_type": "code",
   "execution_count": 5,
   "id": "b4a78d59",
   "metadata": {},
   "outputs": [
    {
     "data": {
      "text/html": [
       "<div>\n",
       "<style scoped>\n",
       "    .dataframe tbody tr th:only-of-type {\n",
       "        vertical-align: middle;\n",
       "    }\n",
       "\n",
       "    .dataframe tbody tr th {\n",
       "        vertical-align: top;\n",
       "    }\n",
       "\n",
       "    .dataframe thead th {\n",
       "        text-align: right;\n",
       "    }\n",
       "</style>\n",
       "<table border=\"1\" class=\"dataframe\">\n",
       "  <thead>\n",
       "    <tr style=\"text-align: right;\">\n",
       "      <th></th>\n",
       "      <th>Customer ID</th>\n",
       "      <th>Age</th>\n",
       "      <th>Total Spend</th>\n",
       "      <th>Items Purchased</th>\n",
       "      <th>Average Rating</th>\n",
       "      <th>Days Since Last Purchase</th>\n",
       "    </tr>\n",
       "  </thead>\n",
       "  <tbody>\n",
       "    <tr>\n",
       "      <th>count</th>\n",
       "      <td>350.000000</td>\n",
       "      <td>350.000000</td>\n",
       "      <td>350.000000</td>\n",
       "      <td>350.000000</td>\n",
       "      <td>350.000000</td>\n",
       "      <td>350.000000</td>\n",
       "    </tr>\n",
       "    <tr>\n",
       "      <th>mean</th>\n",
       "      <td>275.500000</td>\n",
       "      <td>33.597143</td>\n",
       "      <td>845.381714</td>\n",
       "      <td>12.600000</td>\n",
       "      <td>4.019143</td>\n",
       "      <td>26.588571</td>\n",
       "    </tr>\n",
       "    <tr>\n",
       "      <th>std</th>\n",
       "      <td>101.180532</td>\n",
       "      <td>4.870882</td>\n",
       "      <td>362.058695</td>\n",
       "      <td>4.155984</td>\n",
       "      <td>0.580539</td>\n",
       "      <td>13.440813</td>\n",
       "    </tr>\n",
       "    <tr>\n",
       "      <th>min</th>\n",
       "      <td>101.000000</td>\n",
       "      <td>26.000000</td>\n",
       "      <td>410.800000</td>\n",
       "      <td>7.000000</td>\n",
       "      <td>3.000000</td>\n",
       "      <td>9.000000</td>\n",
       "    </tr>\n",
       "    <tr>\n",
       "      <th>25%</th>\n",
       "      <td>188.250000</td>\n",
       "      <td>30.000000</td>\n",
       "      <td>502.000000</td>\n",
       "      <td>9.000000</td>\n",
       "      <td>3.500000</td>\n",
       "      <td>15.000000</td>\n",
       "    </tr>\n",
       "    <tr>\n",
       "      <th>50%</th>\n",
       "      <td>275.500000</td>\n",
       "      <td>32.500000</td>\n",
       "      <td>775.200000</td>\n",
       "      <td>12.000000</td>\n",
       "      <td>4.100000</td>\n",
       "      <td>23.000000</td>\n",
       "    </tr>\n",
       "    <tr>\n",
       "      <th>75%</th>\n",
       "      <td>362.750000</td>\n",
       "      <td>37.000000</td>\n",
       "      <td>1160.600000</td>\n",
       "      <td>15.000000</td>\n",
       "      <td>4.500000</td>\n",
       "      <td>38.000000</td>\n",
       "    </tr>\n",
       "    <tr>\n",
       "      <th>max</th>\n",
       "      <td>450.000000</td>\n",
       "      <td>43.000000</td>\n",
       "      <td>1520.100000</td>\n",
       "      <td>21.000000</td>\n",
       "      <td>4.900000</td>\n",
       "      <td>63.000000</td>\n",
       "    </tr>\n",
       "  </tbody>\n",
       "</table>\n",
       "</div>"
      ],
      "text/plain": [
       "       Customer ID         Age  Total Spend  Items Purchased  Average Rating  \\\n",
       "count   350.000000  350.000000   350.000000       350.000000      350.000000   \n",
       "mean    275.500000   33.597143   845.381714        12.600000        4.019143   \n",
       "std     101.180532    4.870882   362.058695         4.155984        0.580539   \n",
       "min     101.000000   26.000000   410.800000         7.000000        3.000000   \n",
       "25%     188.250000   30.000000   502.000000         9.000000        3.500000   \n",
       "50%     275.500000   32.500000   775.200000        12.000000        4.100000   \n",
       "75%     362.750000   37.000000  1160.600000        15.000000        4.500000   \n",
       "max     450.000000   43.000000  1520.100000        21.000000        4.900000   \n",
       "\n",
       "       Days Since Last Purchase  \n",
       "count                350.000000  \n",
       "mean                  26.588571  \n",
       "std                   13.440813  \n",
       "min                    9.000000  \n",
       "25%                   15.000000  \n",
       "50%                   23.000000  \n",
       "75%                   38.000000  \n",
       "max                   63.000000  "
      ]
     },
     "execution_count": 5,
     "metadata": {},
     "output_type": "execute_result"
    }
   ],
   "source": [
    "df.describe()"
   ]
  },
  {
   "cell_type": "code",
   "execution_count": 6,
   "id": "51308261",
   "metadata": {},
   "outputs": [
    {
     "name": "stdout",
     "output_type": "stream",
     "text": [
      "<class 'pandas.core.frame.DataFrame'>\n",
      "RangeIndex: 350 entries, 0 to 349\n",
      "Data columns (total 11 columns):\n",
      " #   Column                    Non-Null Count  Dtype  \n",
      "---  ------                    --------------  -----  \n",
      " 0   Customer ID               350 non-null    int64  \n",
      " 1   Gender                    350 non-null    object \n",
      " 2   Age                       350 non-null    int64  \n",
      " 3   City                      350 non-null    object \n",
      " 4   Membership Type           350 non-null    object \n",
      " 5   Total Spend               350 non-null    float64\n",
      " 6   Items Purchased           350 non-null    int64  \n",
      " 7   Average Rating            350 non-null    float64\n",
      " 8   Discount Applied          350 non-null    bool   \n",
      " 9   Days Since Last Purchase  350 non-null    int64  \n",
      " 10  Satisfaction Level        348 non-null    object \n",
      "dtypes: bool(1), float64(2), int64(4), object(4)\n",
      "memory usage: 27.8+ KB\n"
     ]
    }
   ],
   "source": [
    "df.info()"
   ]
  },
  {
   "cell_type": "code",
   "execution_count": 7,
   "id": "d283f71e",
   "metadata": {},
   "outputs": [
    {
     "data": {
      "text/html": [
       "<div>\n",
       "<style scoped>\n",
       "    .dataframe tbody tr th:only-of-type {\n",
       "        vertical-align: middle;\n",
       "    }\n",
       "\n",
       "    .dataframe tbody tr th {\n",
       "        vertical-align: top;\n",
       "    }\n",
       "\n",
       "    .dataframe thead th {\n",
       "        text-align: right;\n",
       "    }\n",
       "</style>\n",
       "<table border=\"1\" class=\"dataframe\">\n",
       "  <thead>\n",
       "    <tr style=\"text-align: right;\">\n",
       "      <th></th>\n",
       "      <th>Customer ID</th>\n",
       "      <th>Gender</th>\n",
       "      <th>Age</th>\n",
       "      <th>City</th>\n",
       "      <th>Membership Type</th>\n",
       "      <th>Total Spend</th>\n",
       "      <th>Items Purchased</th>\n",
       "      <th>Average Rating</th>\n",
       "      <th>Discount Applied</th>\n",
       "      <th>Days Since Last Purchase</th>\n",
       "      <th>Satisfaction Level</th>\n",
       "    </tr>\n",
       "  </thead>\n",
       "  <tbody>\n",
       "    <tr>\n",
       "      <th>0</th>\n",
       "      <td>101</td>\n",
       "      <td>Female</td>\n",
       "      <td>29</td>\n",
       "      <td>New York</td>\n",
       "      <td>Gold</td>\n",
       "      <td>1120.20</td>\n",
       "      <td>14</td>\n",
       "      <td>4.6</td>\n",
       "      <td>True</td>\n",
       "      <td>25</td>\n",
       "      <td>Satisfied</td>\n",
       "    </tr>\n",
       "    <tr>\n",
       "      <th>1</th>\n",
       "      <td>102</td>\n",
       "      <td>Male</td>\n",
       "      <td>34</td>\n",
       "      <td>Los Angeles</td>\n",
       "      <td>Silver</td>\n",
       "      <td>780.50</td>\n",
       "      <td>11</td>\n",
       "      <td>4.1</td>\n",
       "      <td>False</td>\n",
       "      <td>18</td>\n",
       "      <td>Neutral</td>\n",
       "    </tr>\n",
       "    <tr>\n",
       "      <th>2</th>\n",
       "      <td>103</td>\n",
       "      <td>Female</td>\n",
       "      <td>43</td>\n",
       "      <td>Chicago</td>\n",
       "      <td>Bronze</td>\n",
       "      <td>510.75</td>\n",
       "      <td>9</td>\n",
       "      <td>3.4</td>\n",
       "      <td>True</td>\n",
       "      <td>42</td>\n",
       "      <td>Unsatisfied</td>\n",
       "    </tr>\n",
       "    <tr>\n",
       "      <th>3</th>\n",
       "      <td>104</td>\n",
       "      <td>Male</td>\n",
       "      <td>30</td>\n",
       "      <td>San Francisco</td>\n",
       "      <td>Gold</td>\n",
       "      <td>1480.30</td>\n",
       "      <td>19</td>\n",
       "      <td>4.7</td>\n",
       "      <td>False</td>\n",
       "      <td>12</td>\n",
       "      <td>Satisfied</td>\n",
       "    </tr>\n",
       "    <tr>\n",
       "      <th>4</th>\n",
       "      <td>105</td>\n",
       "      <td>Male</td>\n",
       "      <td>27</td>\n",
       "      <td>Miami</td>\n",
       "      <td>Silver</td>\n",
       "      <td>720.40</td>\n",
       "      <td>13</td>\n",
       "      <td>4.0</td>\n",
       "      <td>True</td>\n",
       "      <td>55</td>\n",
       "      <td>Unsatisfied</td>\n",
       "    </tr>\n",
       "    <tr>\n",
       "      <th>...</th>\n",
       "      <td>...</td>\n",
       "      <td>...</td>\n",
       "      <td>...</td>\n",
       "      <td>...</td>\n",
       "      <td>...</td>\n",
       "      <td>...</td>\n",
       "      <td>...</td>\n",
       "      <td>...</td>\n",
       "      <td>...</td>\n",
       "      <td>...</td>\n",
       "      <td>...</td>\n",
       "    </tr>\n",
       "    <tr>\n",
       "      <th>345</th>\n",
       "      <td>446</td>\n",
       "      <td>Male</td>\n",
       "      <td>32</td>\n",
       "      <td>Miami</td>\n",
       "      <td>Silver</td>\n",
       "      <td>660.30</td>\n",
       "      <td>10</td>\n",
       "      <td>3.8</td>\n",
       "      <td>True</td>\n",
       "      <td>42</td>\n",
       "      <td>Unsatisfied</td>\n",
       "    </tr>\n",
       "    <tr>\n",
       "      <th>346</th>\n",
       "      <td>447</td>\n",
       "      <td>Female</td>\n",
       "      <td>36</td>\n",
       "      <td>Houston</td>\n",
       "      <td>Bronze</td>\n",
       "      <td>470.50</td>\n",
       "      <td>8</td>\n",
       "      <td>3.0</td>\n",
       "      <td>False</td>\n",
       "      <td>27</td>\n",
       "      <td>Neutral</td>\n",
       "    </tr>\n",
       "    <tr>\n",
       "      <th>347</th>\n",
       "      <td>448</td>\n",
       "      <td>Female</td>\n",
       "      <td>30</td>\n",
       "      <td>New York</td>\n",
       "      <td>Gold</td>\n",
       "      <td>1190.80</td>\n",
       "      <td>16</td>\n",
       "      <td>4.5</td>\n",
       "      <td>True</td>\n",
       "      <td>28</td>\n",
       "      <td>Satisfied</td>\n",
       "    </tr>\n",
       "    <tr>\n",
       "      <th>348</th>\n",
       "      <td>449</td>\n",
       "      <td>Male</td>\n",
       "      <td>34</td>\n",
       "      <td>Los Angeles</td>\n",
       "      <td>Silver</td>\n",
       "      <td>780.20</td>\n",
       "      <td>11</td>\n",
       "      <td>4.2</td>\n",
       "      <td>False</td>\n",
       "      <td>21</td>\n",
       "      <td>Neutral</td>\n",
       "    </tr>\n",
       "    <tr>\n",
       "      <th>349</th>\n",
       "      <td>450</td>\n",
       "      <td>Female</td>\n",
       "      <td>43</td>\n",
       "      <td>Chicago</td>\n",
       "      <td>Bronze</td>\n",
       "      <td>515.75</td>\n",
       "      <td>10</td>\n",
       "      <td>3.3</td>\n",
       "      <td>True</td>\n",
       "      <td>49</td>\n",
       "      <td>Unsatisfied</td>\n",
       "    </tr>\n",
       "  </tbody>\n",
       "</table>\n",
       "<p>350 rows × 11 columns</p>\n",
       "</div>"
      ],
      "text/plain": [
       "     Customer ID  Gender  Age           City Membership Type  Total Spend  \\\n",
       "0            101  Female   29       New York            Gold      1120.20   \n",
       "1            102    Male   34    Los Angeles          Silver       780.50   \n",
       "2            103  Female   43        Chicago          Bronze       510.75   \n",
       "3            104    Male   30  San Francisco            Gold      1480.30   \n",
       "4            105    Male   27          Miami          Silver       720.40   \n",
       "..           ...     ...  ...            ...             ...          ...   \n",
       "345          446    Male   32          Miami          Silver       660.30   \n",
       "346          447  Female   36        Houston          Bronze       470.50   \n",
       "347          448  Female   30       New York            Gold      1190.80   \n",
       "348          449    Male   34    Los Angeles          Silver       780.20   \n",
       "349          450  Female   43        Chicago          Bronze       515.75   \n",
       "\n",
       "     Items Purchased  Average Rating  Discount Applied  \\\n",
       "0                 14             4.6              True   \n",
       "1                 11             4.1             False   \n",
       "2                  9             3.4              True   \n",
       "3                 19             4.7             False   \n",
       "4                 13             4.0              True   \n",
       "..               ...             ...               ...   \n",
       "345               10             3.8              True   \n",
       "346                8             3.0             False   \n",
       "347               16             4.5              True   \n",
       "348               11             4.2             False   \n",
       "349               10             3.3              True   \n",
       "\n",
       "     Days Since Last Purchase Satisfaction Level  \n",
       "0                          25          Satisfied  \n",
       "1                          18            Neutral  \n",
       "2                          42        Unsatisfied  \n",
       "3                          12          Satisfied  \n",
       "4                          55        Unsatisfied  \n",
       "..                        ...                ...  \n",
       "345                        42        Unsatisfied  \n",
       "346                        27            Neutral  \n",
       "347                        28          Satisfied  \n",
       "348                        21            Neutral  \n",
       "349                        49        Unsatisfied  \n",
       "\n",
       "[350 rows x 11 columns]"
      ]
     },
     "execution_count": 7,
     "metadata": {},
     "output_type": "execute_result"
    }
   ],
   "source": [
    "df"
   ]
  },
  {
   "cell_type": "markdown",
   "id": "30cf9b9d",
   "metadata": {},
   "source": [
    "# Matplotlib"
   ]
  },
  {
   "cell_type": "code",
   "execution_count": 8,
   "id": "e999510f",
   "metadata": {},
   "outputs": [
    {
     "data": {
      "image/png": "[encoded data removed]",
      "text/plain": [
       "<Figure size 640x480 with 1 Axes>"
      ]
     },
     "metadata": {},
     "output_type": "display_data"
    }
   ],
   "source": [
    "plt.scatter(df['Total Spend'], df['Items Purchased'])\n",
    "plt.xlabel('Total Spend')\n",
    "plt.ylabel('Items Purchased')\n",
    "plt.title('Scatter Plot: Total Spend vs. Items Purchased')\n",
    "plt.show()"
   ]
  },
  {
   "cell_type": "code",
   "execution_count": 9,
   "id": "5609bd37",
   "metadata": {},
   "outputs": [],
   "source": [
    "#From the graph a positive Correlation is seen. Customers who spend more tend to purchase more items."
   ]
  },
  {
   "cell_type": "code",
   "execution_count": 10,
   "id": "07a68dd3",
   "metadata": {},
   "outputs": [
    {
     "data": {
      "image/png": "[encoded data removed]",
      "text/plain": [
       "<Figure size 640x480 with 1 Axes>"
      ]
     },
     "metadata": {},
     "output_type": "display_data"
    }
   ],
   "source": [
    "plt.scatter(df['Gender'], df['Total Spend'])\n",
    "plt.xlabel('Gender')\n",
    "plt.ylabel('Total Spend')\n",
    "plt.title('Scatter Plot: Gender vs. Total Spend')\n",
    "plt.show()"
   ]
  },
  {
   "cell_type": "code",
   "execution_count": 11,
   "id": "07fea7bd",
   "metadata": {},
   "outputs": [],
   "source": [
    "#It is evident from the graph that in Gender category Male are spending more in comparison to Female"
   ]
  },
  {
   "cell_type": "code",
   "execution_count": 12,
   "id": "f83dd079",
   "metadata": {},
   "outputs": [
    {
     "data": {
      "image/png": "[encoded data removed]",
      "text/plain": [
       "<Figure size 640x480 with 1 Axes>"
      ]
     },
     "metadata": {},
     "output_type": "display_data"
    }
   ],
   "source": [
    "df['Discount Applied'].value_counts().plot(kind='pie', autopct='%1.2f%%')\n",
    "plt.title(\"Frequency of Discounts Applied\")\n",
    "plt.show()"
   ]
  },
  {
   "cell_type": "markdown",
   "id": "cec9a546",
   "metadata": {},
   "source": [
    "# Seaborn"
   ]
  },
  {
   "cell_type": "code",
   "execution_count": 14,
   "id": "c097c216",
   "metadata": {},
   "outputs": [
    {
     "data": {
      "image/png": "[encoded data removed]",
      "text/plain": [
       "<Figure size 800x600 with 1 Axes>"
      ]
     },
     "metadata": {},
     "output_type": "display_data"
    }
   ],
   "source": [
    "plt.figure(figsize=(8, 6))\n",
    "sns.scatterplot(data=df, x='Total Spend', y='Items Purchased')\n",
    "plt.xlabel('Total Spend')\n",
    "plt.ylabel('Items Purchased')\n",
    "plt.title('Scatter Plot: Total Spend vs. Items Purchased')\n",
    "plt.show()"
   ]
  },
  {
   "cell_type": "code",
   "execution_count": 15,
   "id": "588b61d2",
   "metadata": {},
   "outputs": [
    {
     "data": {
      "image/png": "[encoded data removed]",
      "text/plain": [
       "<Figure size 800x600 with 1 Axes>"
      ]
     },
     "metadata": {},
     "output_type": "display_data"
    }
   ],
   "source": [
    "plt.figure(figsize=(8, 6))\n",
    "sns.scatterplot(data=df, x='Gender', y='Total Spend')\n",
    "plt.xlabel('Gender')\n",
    "plt.ylabel('Total Spend')\n",
    "plt.title('Scatter Plot: Gender vs. Total Spend')\n",
    "plt.show()"
   ]
  },
  {
   "cell_type": "markdown",
   "id": "b9eb7124",
   "metadata": {},
   "source": [
    "# Plotly"
   ]
  },
  {
   "cell_type": "code",
   "execution_count": 18,
   "id": "e1d14186",
   "metadata": {},
   "outputs": [
    {
     "data": {
      "application/vnd.plotly.v1+json": {
       "config": {
        "plotlyServerURL": "https://plot.ly"
       },
       "data": [
        {
         "marker": {
          "color": "green"
         },
         "mode": "markers",
         "text": [
          0,
          1,
          2,
          3,
          4,
          5,
          6,
          7,
          8,
          9,
          10,
          11,
          12,
          13,
          14,
          15,
          16,
          17,
          18,
          19,
          20,
          21,
          22,
          23,
          24,
          25,
          26,
          27,
          28,
          29,
          30,
          31,
          32,
          33,
          34,
          35,
          36,
          37,
          38,
          39,
          40,
          41,
          42,
          43,
          44,
          45,
          46,
          47,
          48,
          49,
          50,
          51,
          52,
          53,
          54,
          55,
          56,
          57,
          58,
          59,
          60,
          61,
          62,
          63,
          64,
          65,
          66,
          67,
          68,
          69,
          70,
          71,
          72,
          73,
          74,
          75,
          76,
          77,
          78,
          79,
          80,
          81,
          82,
          83,
          84,
          85,
          86,
          87,
          88,
          89,
          90,
          91,
          92,
          93,
          94,
          95,
          96,
          97,
          98,
          99,
          100,
          101,
          102,
          103,
          104,
          105,
          106,
          107,
          108,
          109,
          110,
          111,
          112,
          113,
          114,
          115,
          116,
          117,
          118,
          119,
          120,
          121,
          122,
          123,
          124,
          125,
          126,
          127,
          128,
          129,
          130,
          131,
          132,
          133,
          134,
          135,
          136,
          137,
          138,
          139,
          140,
          141,
          142,
          143,
          144,
          145,
          146,
          147,
          148,
          149,
          150,
          151,
          152,
          153,
          154,
          155,
          156,
          157,
          158,
          159,
          160,
          161,
          162,
          163,
          164,
          165,
          166,
          167,
          168,
          169,
          170,
          171,
          172,
          173,
          174,
          175,
          176,
          177,
          178,
          179,
          180,
          181,
          182,
          183,
          184,
          185,
          186,
          187,
          188,
          189,
          190,
          191,
          192,
          193,
          194,
          195,
          196,
          197,
          198,
          199,
          200,
          201,
          202,
          203,
          204,
          205,
          206,
          207,
          208,
          209,
          210,
          211,
          212,
          213,
          214,
          215,
          216,
          217,
          218,
          219,
          220,
          221,
          222,
          223,
          224,
          225,
          226,
          227,
          228,
          229,
          230,
          231,
          232,
          233,
          234,
          235,
          236,
          237,
          238,
          239,
          240,
          241,
          242,
          243,
          244,
          245,
          246,
          247,
          248,
          249,
          250,
          251,
          252,
          253,
          254,
          255,
          256,
          257,
          258,
          259,
          260,
          261,
          262,
          263,
          264,
          265,
          266,
          267,
          268,
          269,
          270,
          271,
          272,
          273,
          274,
          275,
          276,
          277,
          278,
          279,
          280,
          281,
          282,
          283,
          284,
          285,
          286,
          287,
          288,
          289,
          290,
          291,
          292,
          293,
          294,
          295,
          296,
          297,
          298,
          299,
          300,
          301,
          302,
          303,
          304,
          305,
          306,
          307,
          308,
          309,
          310,
          311,
          312,
          313,
          314,
          315,
          316,
          317,
          318,
          319,
          320,
          321,
          322,
          323,
          324,
          325,
          326,
          327,
          328,
          329,
          330,
          331,
          332,
          333,
          334,
          335,
          336,
          337,
          338,
          339,
          340,
          341,
          342,
          343,
          344,
          345,
          346,
          347,
          348,
          349
         ],
         "type": "scatter",
         "x": [
          "Female",
          "Male",
          "Female",
          "Male",
          "Male",
          "Female",
          "Female",
          "Male",
          "Female",
          "Male",
          "Male",
          "Female",
          "Female",
          "Male",
          "Female",
          "Male",
          "Male",
          "Female",
          "Female",
          "Male",
          "Female",
          "Male",
          "Male",
          "Female",
          "Female",
          "Male",
          "Female",
          "Male",
          "Male",
          "Female",
          "Female",
          "Male",
          "Female",
          "Male",
          "Male",
          "Female",
          "Female",
          "Male",
          "Female",
          "Male",
          "Male",
          "Female",
          "Female",
          "Male",
          "Female",
          "Male",
          "Male",
          "Female",
          "Female",
          "Male",
          "Female",
          "Male",
          "Male",
          "Female",
          "Female",
          "Male",
          "Female",
          "Male",
          "Male",
          "Female",
          "Female",
          "Male",
          "Female",
          "Male",
          "Male",
          "Female",
          "Female",
          "Male",
          "Female",
          "Male",
          "Male",
          "Female",
          "Female",
          "Male",
          "Female",
          "Male",
          "Male",
          "Female",
          "Female",
          "Male",
          "Female",
          "Male",
          "Male",
          "Female",
          "Female",
          "Male",
          "Female",
          "Male",
          "Male",
          "Female",
          "Female",
          "Male",
          "Female",
          "Male",
          "Male",
          "Female",
          "Female",
          "Male",
          "Female",
          "Male",
          "Male",
          "Female",
          "Female",
          "Male",
          "Female",
          "Male",
          "Male",
          "Female",
          "Female",
          "Male",
          "Female",
          "Male",
          "Male",
          "Female",
          "Female",
          "Male",
          "Female",
          "Male",
          "Male",
          "Female",
          "Female",
          "Male",
          "Female",
          "Male",
          "Male",
          "Female",
          "Female",
          "Male",
          "Female",
          "Male",
          "Male",
          "Female",
          "Female",
          "Male",
          "Female",
          "Male",
          "Male",
          "Female",
          "Female",
          "Male",
          "Female",
          "Male",
          "Male",
          "Female",
          "Female",
          "Male",
          "Female",
          "Male",
          "Male",
          "Female",
          "Female",
          "Male",
          "Female",
          "Male",
          "Male",
          "Female",
          "Female",
          "Male",
          "Female",
          "Male",
          "Male",
          "Female",
          "Female",
          "Male",
          "Female",
          "Male",
          "Male",
          "Female",
          "Female",
          "Male",
          "Female",
          "Male",
          "Male",
          "Female",
          "Female",
          "Male",
          "Female",
          "Male",
          "Male",
          "Female",
          "Female",
          "Male",
          "Female",
          "Male",
          "Male",
          "Female",
          "Female",
          "Male",
          "Female",
          "Male",
          "Male",
          "Female",
          "Female",
          "Male",
          "Female",
          "Male",
          "Male",
          "Female",
          "Female",
          "Male",
          "Male",
          "Female",
          "Female",
          "Male",
          "Male",
          "Female",
          "Male",
          "Male",
          "Female",
          "Female",
          "Male",
          "Female",
          "Male",
          "Male",
          "Female",
          "Female",
          "Male",
          "Female",
          "Male",
          "Male",
          "Female",
          "Female",
          "Male",
          "Female",
          "Male",
          "Male",
          "Female",
          "Female",
          "Male",
          "Female",
          "Male",
          "Male",
          "Female",
          "Female",
          "Male",
          "Female",
          "Male",
          "Male",
          "Female",
          "Female",
          "Male",
          "Female",
          "Male",
          "Male",
          "Female",
          "Female",
          "Male",
          "Female",
          "Male",
          "Male",
          "Female",
          "Female",
          "Male",
          "Female",
          "Male",
          "Male",
          "Female",
          "Female",
          "Male",
          "Female",
          "Male",
          "Male",
          "Female",
          "Female",
          "Male",
          "Female",
          "Male",
          "Male",
          "Female",
          "Female",
          "Male",
          "Female",
          "Male",
          "Male",
          "Female",
          "Female",
          "Male",
          "Female",
          "Male",
          "Male",
          "Female",
          "Female",
          "Male",
          "Female",
          "Male",
          "Male",
          "Female",
          "Female",
          "Male",
          "Female",
          "Male",
          "Male",
          "Female",
          "Female",
          "Male",
          "Female",
          "Male",
          "Male",
          "Female",
          "Female",
          "Male",
          "Female",
          "Male",
          "Male",
          "Female",
          "Female",
          "Male",
          "Female",
          "Male",
          "Male",
          "Female",
          "Female",
          "Male",
          "Female",
          "Male",
          "Male",
          "Female",
          "Female",
          "Male",
          "Female",
          "Male",
          "Male",
          "Female",
          "Female",
          "Male",
          "Female",
          "Male",
          "Male",
          "Female",
          "Female",
          "Male",
          "Female",
          "Male",
          "Male",
          "Female",
          "Female",
          "Male",
          "Female",
          "Male",
          "Male",
          "Female",
          "Female",
          "Male",
          "Female",
          "Male",
          "Male",
          "Female",
          "Female",
          "Male",
          "Female"
         ],
         "y": [
          1120.2,
          780.5,
          510.75,
          1480.3,
          720.4,
          440.8,
          1150.6,
          800.9,
          495.25,
          1520.1,
          690.3,
          470.5,
          1200.8,
          820.75,
          530.4,
          1360.2,
          700.6,
          450.9,
          1170.3,
          790.2,
          505.75,
          1470.5,
          710.4,
          430.8,
          1140.6,
          810.9,
          485.25,
          1500.1,
          670.3,
          460.5,
          1190.8,
          830.75,
          520.4,
          1370.2,
          690.6,
          440.9,
          1160.3,
          800.2,
          500.75,
          1460.5,
          700.4,
          420.8,
          1130.6,
          820.9,
          480.25,
          1490.1,
          680.3,
          470.5,
          1180.8,
          790.2,
          505.75,
          1470.5,
          710.4,
          430.8,
          1140.6,
          810.9,
          485.25,
          1500.1,
          670.3,
          460.5,
          1190.8,
          830.75,
          520.4,
          1370.2,
          690.6,
          440.9,
          1160.3,
          800.2,
          500.75,
          1460.5,
          700.4,
          420.8,
          1130.6,
          820.9,
          480.25,
          1490.1,
          680.3,
          470.5,
          1180.8,
          790.2,
          505.75,
          1470.5,
          710.4,
          430.8,
          1140.6,
          810.9,
          485.25,
          1500.1,
          670.3,
          460.5,
          1190.8,
          830.75,
          520.4,
          1370.2,
          690.6,
          440.9,
          1160.3,
          800.2,
          500.75,
          1460.5,
          700.4,
          420.8,
          1130.6,
          820.9,
          480.25,
          1490.1,
          680.3,
          470.5,
          1180.8,
          790.2,
          505.75,
          1470.5,
          710.4,
          430.8,
          1140.6,
          810.9,
          485.25,
          1500.1,
          670.3,
          460.5,
          1190.8,
          830.75,
          520.4,
          1370.2,
          690.6,
          440.9,
          1160.3,
          800.2,
          500.75,
          1460.5,
          700.4,
          420.8,
          1130.6,
          820.9,
          480.25,
          1490.1,
          680.3,
          470.5,
          1180.8,
          790.2,
          505.75,
          1470.5,
          710.4,
          430.8,
          1130.6,
          820.9,
          480.25,
          1490.1,
          680.3,
          470.5,
          1180.8,
          790.2,
          505.75,
          1470.5,
          710.4,
          430.8,
          1140.6,
          810.9,
          485.25,
          1500.1,
          670.3,
          460.5,
          1190.8,
          830.75,
          520.4,
          1370.2,
          690.6,
          440.9,
          1160.3,
          800.2,
          500.75,
          1460.5,
          700.4,
          430.8,
          1140.6,
          820.9,
          480.25,
          1490.1,
          680.3,
          470.5,
          1180.8,
          790.2,
          505.75,
          1470.5,
          710.4,
          430.8,
          1130.6,
          820.9,
          485.25,
          1500.1,
          670.3,
          460.5,
          1190.8,
          830.75,
          520.4,
          1370.2,
          690.6,
          440.9,
          1160.3,
          800.2,
          1420.8,
          730.4,
          450.6,
          1210.6,
          780.9,
          495.25,
          1390.2,
          670.6,
          460.9,
          1170.3,
          810.2,
          515.75,
          1450.5,
          690.4,
          420.8,
          1130.6,
          820.9,
          480.25,
          1490.1,
          680.3,
          470.5,
          1180.8,
          790.2,
          505.75,
          1470.5,
          710.4,
          430.8,
          1140.6,
          820.9,
          485.25,
          1500.1,
          670.3,
          460.5,
          1190.8,
          830.75,
          520.4,
          1370.2,
          690.6,
          440.9,
          1160.3,
          800.2,
          525.75,
          1460.5,
          720.4,
          440.8,
          1150.6,
          830.9,
          490.25,
          1480.1,
          690.3,
          480.5,
          1170.8,
          790.2,
          510.75,
          1440.5,
          700.4,
          410.8,
          1160.6,
          810.9,
          495.25,
          1490.1,
          660.3,
          430.5,
          1200.8,
          780.2,
          505.75,
          1460.5,
          710.4,
          450.8,
          1140.6,
          800.9,
          475.25,
          1480.1,
          660.3,
          470.5,
          1190.8,
          770.2,
          515.75,
          1450.5,
          710.4,
          430.8,
          1160.6,
          820.9,
          495.25,
          1490.1,
          660.3,
          440.5,
          1200.8,
          780.2,
          505.75,
          1460.5,
          710.4,
          450.8,
          1140.6,
          800.9,
          475.25,
          1480.1,
          660.3,
          470.5,
          1190.8,
          800.2,
          515.75,
          1450.5,
          710.4,
          430.8,
          1160.6,
          820.9,
          495.25,
          1490.1,
          660.3,
          440.5,
          1200.8,
          780.2,
          505.75,
          1460.5,
          710.4,
          450.8,
          1140.6,
          800.9,
          475.25,
          1480.1,
          660.3,
          470.5,
          1190.8,
          780.2,
          515.75,
          1450.5,
          710.4,
          430.8,
          1160.6,
          820.9,
          495.25,
          1490.1,
          660.3,
          440.5,
          1200.8,
          780.2,
          505.75,
          1460.5,
          710.4,
          450.8,
          1140.6,
          800.9,
          475.25,
          1480.1,
          660.3,
          470.5,
          1190.8,
          780.2,
          515.75
         ]
        }
       ],
       "layout": {
        "template": {
         "data": {
          "bar": [
           {
            "error_x": {
             "color": "#2a3f5f"
            },
            "error_y": {
             "color": "#2a3f5f"
            },
            "marker": {
             "line": {
              "color": "#E5ECF6",
              "width": 0.5
             },
             "pattern": {
              "fillmode": "overlay",
              "size": 10,
              "solidity": 0.2
             }
            },
            "type": "bar"
           }
          ],
          "barpolar": [
           {
            "marker": {
             "line": {
              "color": "#E5ECF6",
              "width": 0.5
             },
             "pattern": {
              "fillmode": "overlay",
              "size": 10,
              "solidity": 0.2
             }
            },
            "type": "barpolar"
           }
          ],
          "carpet": [
           {
            "aaxis": {
             "endlinecolor": "#2a3f5f",
             "gridcolor": "white",
             "linecolor": "white",
             "minorgridcolor": "white",
             "startlinecolor": "#2a3f5f"
            },
            "baxis": {
             "endlinecolor": "#2a3f5f",
             "gridcolor": "white",
             "linecolor": "white",
             "minorgridcolor": "white",
             "startlinecolor": "#2a3f5f"
            },
            "type": "carpet"
           }
          ],
          "choropleth": [
           {
            "colorbar": {
             "outlinewidth": 0,
             "ticks": ""
            },
            "type": "choropleth"
           }
          ],
          "contour": [
           {
            "colorbar": {
             "outlinewidth": 0,
             "ticks": ""
            },
            "colorscale": [
             [
              0,
              "#0d0887"
             ],
             [
              0.1111111111111111,
              "#46039f"
             ],
             [
              0.2222222222222222,
              "#7201a8"
             ],
             [
              0.3333333333333333,
              "#9c179e"
             ],
             [
              0.4444444444444444,
              "#bd3786"
             ],
             [
              0.5555555555555556,
              "#d8576b"
             ],
             [
              0.6666666666666666,
              "#ed7953"
             ],
             [
              0.7777777777777778,
              "#fb9f3a"
             ],
             [
              0.8888888888888888,
              "#fdca26"
             ],
             [
              1,
              "#f0f921"
             ]
            ],
            "type": "contour"
           }
          ],
          "contourcarpet": [
           {
            "colorbar": {
             "outlinewidth": 0,
             "ticks": ""
            },
            "type": "contourcarpet"
           }
          ],
          "heatmap": [
           {
            "colorbar": {
             "outlinewidth": 0,
             "ticks": ""
            },
            "colorscale": [
             [
              0,
              "#0d0887"
             ],
             [
              0.1111111111111111,
              "#46039f"
             ],
             [
              0.2222222222222222,
              "#7201a8"
             ],
             [
              0.3333333333333333,
              "#9c179e"
             ],
             [
              0.4444444444444444,
              "#bd3786"
             ],
             [
              0.5555555555555556,
              "#d8576b"
             ],
             [
              0.6666666666666666,
              "#ed7953"
             ],
             [
              0.7777777777777778,
              "#fb9f3a"
             ],
             [
              0.8888888888888888,
              "#fdca26"
             ],
             [
              1,
              "#f0f921"
             ]
            ],
            "type": "heatmap"
           }
          ],
          "heatmapgl": [
           {
            "colorbar": {
             "outlinewidth": 0,
             "ticks": ""
            },
            "colorscale": [
             [
              0,
              "#0d0887"
             ],
             [
              0.1111111111111111,
              "#46039f"
             ],
             [
              0.2222222222222222,
              "#7201a8"
             ],
             [
              0.3333333333333333,
              "#9c179e"
             ],
             [
              0.4444444444444444,
              "#bd3786"
             ],
             [
              0.5555555555555556,
              "#d8576b"
             ],
             [
              0.6666666666666666,
              "#ed7953"
             ],
             [
              0.7777777777777778,
              "#fb9f3a"
             ],
             [
              0.8888888888888888,
              "#fdca26"
             ],
             [
              1,
              "#f0f921"
             ]
            ],
            "type": "heatmapgl"
           }
          ],
          "histogram": [
           {
            "marker": {
             "pattern": {
              "fillmode": "overlay",
              "size": 10,
              "solidity": 0.2
             }
            },
            "type": "histogram"
           }
          ],
          "histogram2d": [
           {
            "colorbar": {
             "outlinewidth": 0,
             "ticks": ""
            },
            "colorscale": [
             [
              0,
              "#0d0887"
             ],
             [
              0.1111111111111111,
              "#46039f"
             ],
             [
              0.2222222222222222,
              "#7201a8"
             ],
             [
              0.3333333333333333,
              "#9c179e"
             ],
             [
              0.4444444444444444,
              "#bd3786"
             ],
             [
              0.5555555555555556,
              "#d8576b"
             ],
             [
              0.6666666666666666,
              "#ed7953"
             ],
             [
              0.7777777777777778,
              "#fb9f3a"
             ],
             [
              0.8888888888888888,
              "#fdca26"
             ],
             [
              1,
              "#f0f921"
             ]
            ],
            "type": "histogram2d"
           }
          ],
          "histogram2dcontour": [
           {
            "colorbar": {
             "outlinewidth": 0,
             "ticks": ""
            },
            "colorscale": [
             [
              0,
              "#0d0887"
             ],
             [
              0.1111111111111111,
              "#46039f"
             ],
             [
              0.2222222222222222,
              "#7201a8"
             ],
             [
              0.3333333333333333,
              "#9c179e"
             ],
             [
              0.4444444444444444,
              "#bd3786"
             ],
             [
              0.5555555555555556,
              "#d8576b"
             ],
             [
              0.6666666666666666,
              "#ed7953"
             ],
             [
              0.7777777777777778,
              "#fb9f3a"
             ],
             [
              0.8888888888888888,
              "#fdca26"
             ],
             [
              1,
              "#f0f921"
             ]
            ],
            "type": "histogram2dcontour"
           }
          ],
          "mesh3d": [
           {
            "colorbar": {
             "outlinewidth": 0,
             "ticks": ""
            },
            "type": "mesh3d"
           }
          ],
          "parcoords": [
           {
            "line": {
             "colorbar": {
              "outlinewidth": 0,
              "ticks": ""
             }
            },
            "type": "parcoords"
           }
          ],
          "pie": [
           {
            "automargin": true,
            "type": "pie"
           }
          ],
          "scatter": [
           {
            "fillpattern": {
             "fillmode": "overlay",
             "size": 10,
             "solidity": 0.2
            },
            "type": "scatter"
           }
          ],
          "scatter3d": [
           {
            "line": {
             "colorbar": {
              "outlinewidth": 0,
              "ticks": ""
             }
            },
            "marker": {
             "colorbar": {
              "outlinewidth": 0,
              "ticks": ""
             }
            },
            "type": "scatter3d"
           }
          ],
          "scattercarpet": [
           {
            "marker": {
             "colorbar": {
              "outlinewidth": 0,
              "ticks": ""
             }
            },
            "type": "scattercarpet"
           }
          ],
          "scattergeo": [
           {
            "marker": {
             "colorbar": {
              "outlinewidth": 0,
              "ticks": ""
             }
            },
            "type": "scattergeo"
           }
          ],
          "scattergl": [
           {
            "marker": {
             "colorbar": {
              "outlinewidth": 0,
              "ticks": ""
             }
            },
            "type": "scattergl"
           }
          ],
          "scattermapbox": [
           {
            "marker": {
             "colorbar": {
              "outlinewidth": 0,
              "ticks": ""
             }
            },
            "type": "scattermapbox"
           }
          ],
          "scatterpolar": [
           {
            "marker": {
             "colorbar": {
              "outlinewidth": 0,
              "ticks": ""
             }
            },
            "type": "scatterpolar"
           }
          ],
          "scatterpolargl": [
           {
            "marker": {
             "colorbar": {
              "outlinewidth": 0,
              "ticks": ""
             }
            },
            "type": "scatterpolargl"
           }
          ],
          "scatterternary": [
           {
            "marker": {
             "colorbar": {
              "outlinewidth": 0,
              "ticks": ""
             }
            },
            "type": "scatterternary"
           }
          ],
          "surface": [
           {
            "colorbar": {
             "outlinewidth": 0,
             "ticks": ""
            },
            "colorscale": [
             [
              0,
              "#0d0887"
             ],
             [
              0.1111111111111111,
              "#46039f"
             ],
             [
              0.2222222222222222,
              "#7201a8"
             ],
             [
              0.3333333333333333,
              "#9c179e"
             ],
             [
              0.4444444444444444,
              "#bd3786"
             ],
             [
              0.5555555555555556,
              "#d8576b"
             ],
             [
              0.6666666666666666,
              "#ed7953"
             ],
             [
              0.7777777777777778,
              "#fb9f3a"
             ],
             [
              0.8888888888888888,
              "#fdca26"
             ],
             [
              1,
              "#f0f921"
             ]
            ],
            "type": "surface"
           }
          ],
          "table": [
           {
            "cells": {
             "fill": {
              "color": "#EBF0F8"
             },
             "line": {
              "color": "white"
             }
            },
            "header": {
             "fill": {
              "color": "#C8D4E3"
             },
             "line": {
              "color": "white"
             }
            },
            "type": "table"
           }
          ]
         },
         "layout": {
          "annotationdefaults": {
           "arrowcolor": "#2a3f5f",
           "arrowhead": 0,
           "arrowwidth": 1
          },
          "autotypenumbers": "strict",
          "coloraxis": {
           "colorbar": {
            "outlinewidth": 0,
            "ticks": ""
           }
          },
          "colorscale": {
           "diverging": [
            [
             0,
             "#8e0152"
            ],
            [
             0.1,
             "#c51b7d"
            ],
            [
             0.2,
             "#de77ae"
            ],
            [
             0.3,
             "#f1b6da"
            ],
            [
             0.4,
             "#fde0ef"
            ],
            [
             0.5,
             "#f7f7f7"
            ],
            [
             0.6,
             "#e6f5d0"
            ],
            [
             0.7,
             "#b8e186"
            ],
            [
             0.8,
             "#7fbc41"
            ],
            [
             0.9,
             "#4d9221"
            ],
            [
             1,
             "#276419"
            ]
           ],
           "sequential": [
            [
             0,
             "#0d0887"
            ],
            [
             0.1111111111111111,
             "#46039f"
            ],
            [
             0.2222222222222222,
             "#7201a8"
            ],
            [
             0.3333333333333333,
             "#9c179e"
            ],
            [
             0.4444444444444444,
             "#bd3786"
            ],
            [
             0.5555555555555556,
             "#d8576b"
            ],
            [
             0.6666666666666666,
             "#ed7953"
            ],
            [
             0.7777777777777778,
             "#fb9f3a"
            ],
            [
             0.8888888888888888,
             "#fdca26"
            ],
            [
             1,
             "#f0f921"
            ]
           ],
           "sequentialminus": [
            [
             0,
             "#0d0887"
            ],
            [
             0.1111111111111111,
             "#46039f"
            ],
            [
             0.2222222222222222,
             "#7201a8"
            ],
            [
             0.3333333333333333,
             "#9c179e"
            ],
            [
             0.4444444444444444,
             "#bd3786"
            ],
            [
             0.5555555555555556,
             "#d8576b"
            ],
            [
             0.6666666666666666,
             "#ed7953"
            ],
            [
             0.7777777777777778,
             "#fb9f3a"
            ],
            [
             0.8888888888888888,
             "#fdca26"
            ],
            [
             1,
             "#f0f921"
            ]
           ]
          },
          "colorway": [
           "#636efa",
           "#EF553B",
           "#00cc96",
           "#ab63fa",
           "#FFA15A",
           "#19d3f3",
           "#FF6692",
           "#B6E880",
           "#FF97FF",
           "#FECB52"
          ],
          "font": {
           "color": "#2a3f5f"
          },
          "geo": {
           "bgcolor": "white",
           "lakecolor": "white",
           "landcolor": "#E5ECF6",
           "showlakes": true,
           "showland": true,
           "subunitcolor": "white"
          },
          "hoverlabel": {
           "align": "left"
          },
          "hovermode": "closest",
          "mapbox": {
           "style": "light"
          },
          "paper_bgcolor": "white",
          "plot_bgcolor": "#E5ECF6",
          "polar": {
           "angularaxis": {
            "gridcolor": "white",
            "linecolor": "white",
            "ticks": ""
           },
           "bgcolor": "#E5ECF6",
           "radialaxis": {
            "gridcolor": "white",
            "linecolor": "white",
            "ticks": ""
           }
          },
          "scene": {
           "xaxis": {
            "backgroundcolor": "#E5ECF6",
            "gridcolor": "white",
            "gridwidth": 2,
            "linecolor": "white",
            "showbackground": true,
            "ticks": "",
            "zerolinecolor": "white"
           },
           "yaxis": {
            "backgroundcolor": "#E5ECF6",
            "gridcolor": "white",
            "gridwidth": 2,
            "linecolor": "white",
            "showbackground": true,
            "ticks": "",
            "zerolinecolor": "white"
           },
           "zaxis": {
            "backgroundcolor": "#E5ECF6",
            "gridcolor": "white",
            "gridwidth": 2,
            "linecolor": "white",
            "showbackground": true,
            "ticks": "",
            "zerolinecolor": "white"
           }
          },
          "shapedefaults": {
           "line": {
            "color": "#2a3f5f"
           }
          },
          "ternary": {
           "aaxis": {
            "gridcolor": "white",
            "linecolor": "white",
            "ticks": ""
           },
           "baxis": {
            "gridcolor": "white",
            "linecolor": "white",
            "ticks": ""
           },
           "bgcolor": "#E5ECF6",
           "caxis": {
            "gridcolor": "white",
            "linecolor": "white",
            "ticks": ""
           }
          },
          "title": {
           "x": 0.05
          },
          "xaxis": {
           "automargin": true,
           "gridcolor": "white",
           "linecolor": "white",
           "ticks": "",
           "title": {
            "standoff": 15
           },
           "zerolinecolor": "white",
           "zerolinewidth": 2
          },
          "yaxis": {
           "automargin": true,
           "gridcolor": "white",
           "linecolor": "white",
           "ticks": "",
           "title": {
            "standoff": 15
           },
           "zerolinecolor": "white",
           "zerolinewidth": 2
          }
         }
        },
        "title": {
         "text": "Scatter Plot: Gender vs. Total Spend"
        },
        "xaxis": {
         "title": {
          "text": "Gender"
         }
        },
        "yaxis": {
         "title": {
          "text": "Total Spend"
         }
        }
       }
      },
      "text/html": [
       "<div>                            <div id=\"8abe35b2-c6b1-472b-97c7-0176845246ff\" class=\"plotly-graph-div\" style=\"height:525px; width:100%;\"></div>            <script type=\"text/javascript\">                require([\"plotly\"], function(Plotly) {                    window.PLOTLYENV=window.PLOTLYENV || {};                                    if (document.getElementById(\"8abe35b2-c6b1-472b-97c7-0176845246ff\")) {                    Plotly.newPlot(                        \"8abe35b2-c6b1-472b-97c7-0176845246ff\",                        [{\"marker\":{\"color\":\"green\"},\"mode\":\"markers\",\"text\":[0.0,1.0,2.0,3.0,4.0,5.0,6.0,7.0,8.0,9.0,10.0,11.0,12.0,13.0,14.0,15.0,16.0,17.0,18.0,19.0,20.0,21.0,22.0,23.0,24.0,25.0,26.0,27.0,28.0,29.0,30.0,31.0,32.0,33.0,34.0,35.0,36.0,37.0,38.0,39.0,40.0,41.0,42.0,43.0,44.0,45.0,46.0,47.0,48.0,49.0,50.0,51.0,52.0,53.0,54.0,55.0,56.0,57.0,58.0,59.0,60.0,61.0,62.0,63.0,64.0,65.0,66.0,67.0,68.0,69.0,70.0,71.0,72.0,73.0,74.0,75.0,76.0,77.0,78.0,79.0,80.0,81.0,82.0,83.0,84.0,85.0,86.0,87.0,88.0,89.0,90.0,91.0,92.0,93.0,94.0,95.0,96.0,97.0,98.0,99.0,100.0,101.0,102.0,103.0,104.0,105.0,106.0,107.0,108.0,109.0,110.0,111.0,112.0,113.0,114.0,115.0,116.0,117.0,118.0,119.0,120.0,121.0,122.0,123.0,124.0,125.0,126.0,127.0,128.0,129.0,130.0,131.0,132.0,133.0,134.0,135.0,136.0,137.0,138.0,139.0,140.0,141.0,142.0,143.0,144.0,145.0,146.0,147.0,148.0,149.0,150.0,151.0,152.0,153.0,154.0,155.0,156.0,157.0,158.0,159.0,160.0,161.0,162.0,163.0,164.0,165.0,166.0,167.0,168.0,169.0,170.0,171.0,172.0,173.0,174.0,175.0,176.0,177.0,178.0,179.0,180.0,181.0,182.0,183.0,184.0,185.0,186.0,187.0,188.0,189.0,190.0,191.0,192.0,193.0,194.0,195.0,196.0,197.0,198.0,199.0,200.0,201.0,202.0,203.0,204.0,205.0,206.0,207.0,208.0,209.0,210.0,211.0,212.0,213.0,214.0,215.0,216.0,217.0,218.0,219.0,220.0,221.0,222.0,223.0,224.0,225.0,226.0,227.0,228.0,229.0,230.0,231.0,232.0,233.0,234.0,235.0,236.0,237.0,238.0,239.0,240.0,241.0,242.0,243.0,244.0,245.0,246.0,247.0,248.0,249.0,250.0,251.0,252.0,253.0,254.0,255.0,256.0,257.0,258.0,259.0,260.0,261.0,262.0,263.0,264.0,265.0,266.0,267.0,268.0,269.0,270.0,271.0,272.0,273.0,274.0,275.0,276.0,277.0,278.0,279.0,280.0,281.0,282.0,283.0,284.0,285.0,286.0,287.0,288.0,289.0,290.0,291.0,292.0,293.0,294.0,295.0,296.0,297.0,298.0,299.0,300.0,301.0,302.0,303.0,304.0,305.0,306.0,307.0,308.0,309.0,310.0,311.0,312.0,313.0,314.0,315.0,316.0,317.0,318.0,319.0,320.0,321.0,322.0,323.0,324.0,325.0,326.0,327.0,328.0,329.0,330.0,331.0,332.0,333.0,334.0,335.0,336.0,337.0,338.0,339.0,340.0,341.0,342.0,343.0,344.0,345.0,346.0,347.0,348.0,349.0],\"x\":[\"Female\",\"Male\",\"Female\",\"Male\",\"Male\",\"Female\",\"Female\",\"Male\",\"Female\",\"Male\",\"Male\",\"Female\",\"Female\",\"Male\",\"Female\",\"Male\",\"Male\",\"Female\",\"Female\",\"Male\",\"Female\",\"Male\",\"Male\",\"Female\",\"Female\",\"Male\",\"Female\",\"Male\",\"Male\",\"Female\",\"Female\",\"Male\",\"Female\",\"Male\",\"Male\",\"Female\",\"Female\",\"Male\",\"Female\",\"Male\",\"Male\",\"Female\",\"Female\",\"Male\",\"Female\",\"Male\",\"Male\",\"Female\",\"Female\",\"Male\",\"Female\",\"Male\",\"Male\",\"Female\",\"Female\",\"Male\",\"Female\",\"Male\",\"Male\",\"Female\",\"Female\",\"Male\",\"Female\",\"Male\",\"Male\",\"Female\",\"Female\",\"Male\",\"Female\",\"Male\",\"Male\",\"Female\",\"Female\",\"Male\",\"Female\",\"Male\",\"Male\",\"Female\",\"Female\",\"Male\",\"Female\",\"Male\",\"Male\",\"Female\",\"Female\",\"Male\",\"Female\",\"Male\",\"Male\",\"Female\",\"Female\",\"Male\",\"Female\",\"Male\",\"Male\",\"Female\",\"Female\",\"Male\",\"Female\",\"Male\",\"Male\",\"Female\",\"Female\",\"Male\",\"Female\",\"Male\",\"Male\",\"Female\",\"Female\",\"Male\",\"Female\",\"Male\",\"Male\",\"Female\",\"Female\",\"Male\",\"Female\",\"Male\",\"Male\",\"Female\",\"Female\",\"Male\",\"Female\",\"Male\",\"Male\",\"Female\",\"Female\",\"Male\",\"Female\",\"Male\",\"Male\",\"Female\",\"Female\",\"Male\",\"Female\",\"Male\",\"Male\",\"Female\",\"Female\",\"Male\",\"Female\",\"Male\",\"Male\",\"Female\",\"Female\",\"Male\",\"Female\",\"Male\",\"Male\",\"Female\",\"Female\",\"Male\",\"Female\",\"Male\",\"Male\",\"Female\",\"Female\",\"Male\",\"Female\",\"Male\",\"Male\",\"Female\",\"Female\",\"Male\",\"Female\",\"Male\",\"Male\",\"Female\",\"Female\",\"Male\",\"Female\",\"Male\",\"Male\",\"Female\",\"Female\",\"Male\",\"Female\",\"Male\",\"Male\",\"Female\",\"Female\",\"Male\",\"Female\",\"Male\",\"Male\",\"Female\",\"Female\",\"Male\",\"Female\",\"Male\",\"Male\",\"Female\",\"Female\",\"Male\",\"Female\",\"Male\",\"Male\",\"Female\",\"Female\",\"Male\",\"Male\",\"Female\",\"Female\",\"Male\",\"Male\",\"Female\",\"Male\",\"Male\",\"Female\",\"Female\",\"Male\",\"Female\",\"Male\",\"Male\",\"Female\",\"Female\",\"Male\",\"Female\",\"Male\",\"Male\",\"Female\",\"Female\",\"Male\",\"Female\",\"Male\",\"Male\",\"Female\",\"Female\",\"Male\",\"Female\",\"Male\",\"Male\",\"Female\",\"Female\",\"Male\",\"Female\",\"Male\",\"Male\",\"Female\",\"Female\",\"Male\",\"Female\",\"Male\",\"Male\",\"Female\",\"Female\",\"Male\",\"Female\",\"Male\",\"Male\",\"Female\",\"Female\",\"Male\",\"Female\",\"Male\",\"Male\",\"Female\",\"Female\",\"Male\",\"Female\",\"Male\",\"Male\",\"Female\",\"Female\",\"Male\",\"Female\",\"Male\",\"Male\",\"Female\",\"Female\",\"Male\",\"Female\",\"Male\",\"Male\",\"Female\",\"Female\",\"Male\",\"Female\",\"Male\",\"Male\",\"Female\",\"Female\",\"Male\",\"Female\",\"Male\",\"Male\",\"Female\",\"Female\",\"Male\",\"Female\",\"Male\",\"Male\",\"Female\",\"Female\",\"Male\",\"Female\",\"Male\",\"Male\",\"Female\",\"Female\",\"Male\",\"Female\",\"Male\",\"Male\",\"Female\",\"Female\",\"Male\",\"Female\",\"Male\",\"Male\",\"Female\",\"Female\",\"Male\",\"Female\",\"Male\",\"Male\",\"Female\",\"Female\",\"Male\",\"Female\",\"Male\",\"Male\",\"Female\",\"Female\",\"Male\",\"Female\",\"Male\",\"Male\",\"Female\",\"Female\",\"Male\",\"Female\",\"Male\",\"Male\",\"Female\",\"Female\",\"Male\",\"Female\",\"Male\",\"Male\",\"Female\",\"Female\",\"Male\",\"Female\",\"Male\",\"Male\",\"Female\",\"Female\",\"Male\",\"Female\"],\"y\":[1120.2,780.5,510.75,1480.3,720.4,440.8,1150.6,800.9,495.25,1520.1,690.3,470.5,1200.8,820.75,530.4,1360.2,700.6,450.9,1170.3,790.2,505.75,1470.5,710.4,430.8,1140.6,810.9,485.25,1500.1,670.3,460.5,1190.8,830.75,520.4,1370.2,690.6,440.9,1160.3,800.2,500.75,1460.5,700.4,420.8,1130.6,820.9,480.25,1490.1,680.3,470.5,1180.8,790.2,505.75,1470.5,710.4,430.8,1140.6,810.9,485.25,1500.1,670.3,460.5,1190.8,830.75,520.4,1370.2,690.6,440.9,1160.3,800.2,500.75,1460.5,700.4,420.8,1130.6,820.9,480.25,1490.1,680.3,470.5,1180.8,790.2,505.75,1470.5,710.4,430.8,1140.6,810.9,485.25,1500.1,670.3,460.5,1190.8,830.75,520.4,1370.2,690.6,440.9,1160.3,800.2,500.75,1460.5,700.4,420.8,1130.6,820.9,480.25,1490.1,680.3,470.5,1180.8,790.2,505.75,1470.5,710.4,430.8,1140.6,810.9,485.25,1500.1,670.3,460.5,1190.8,830.75,520.4,1370.2,690.6,440.9,1160.3,800.2,500.75,1460.5,700.4,420.8,1130.6,820.9,480.25,1490.1,680.3,470.5,1180.8,790.2,505.75,1470.5,710.4,430.8,1130.6,820.9,480.25,1490.1,680.3,470.5,1180.8,790.2,505.75,1470.5,710.4,430.8,1140.6,810.9,485.25,1500.1,670.3,460.5,1190.8,830.75,520.4,1370.2,690.6,440.9,1160.3,800.2,500.75,1460.5,700.4,430.8,1140.6,820.9,480.25,1490.1,680.3,470.5,1180.8,790.2,505.75,1470.5,710.4,430.8,1130.6,820.9,485.25,1500.1,670.3,460.5,1190.8,830.75,520.4,1370.2,690.6,440.9,1160.3,800.2,1420.8,730.4,450.6,1210.6,780.9,495.25,1390.2,670.6,460.9,1170.3,810.2,515.75,1450.5,690.4,420.8,1130.6,820.9,480.25,1490.1,680.3,470.5,1180.8,790.2,505.75,1470.5,710.4,430.8,1140.6,820.9,485.25,1500.1,670.3,460.5,1190.8,830.75,520.4,1370.2,690.6,440.9,1160.3,800.2,525.75,1460.5,720.4,440.8,1150.6,830.9,490.25,1480.1,690.3,480.5,1170.8,790.2,510.75,1440.5,700.4,410.8,1160.6,810.9,495.25,1490.1,660.3,430.5,1200.8,780.2,505.75,1460.5,710.4,450.8,1140.6,800.9,475.25,1480.1,660.3,470.5,1190.8,770.2,515.75,1450.5,710.4,430.8,1160.6,820.9,495.25,1490.1,660.3,440.5,1200.8,780.2,505.75,1460.5,710.4,450.8,1140.6,800.9,475.25,1480.1,660.3,470.5,1190.8,800.2,515.75,1450.5,710.4,430.8,1160.6,820.9,495.25,1490.1,660.3,440.5,1200.8,780.2,505.75,1460.5,710.4,450.8,1140.6,800.9,475.25,1480.1,660.3,470.5,1190.8,780.2,515.75,1450.5,710.4,430.8,1160.6,820.9,495.25,1490.1,660.3,440.5,1200.8,780.2,505.75,1460.5,710.4,450.8,1140.6,800.9,475.25,1480.1,660.3,470.5,1190.8,780.2,515.75],\"type\":\"scatter\"}],                        {\"template\":{\"data\":{\"histogram2dcontour\":[{\"type\":\"histogram2dcontour\",\"colorbar\":{\"outlinewidth\":0,\"ticks\":\"\"},\"colorscale\":[[0.0,\"#0d0887\"],[0.1111111111111111,\"#46039f\"],[0.2222222222222222,\"#7201a8\"],[0.3333333333333333,\"#9c179e\"],[0.4444444444444444,\"#bd3786\"],[0.5555555555555556,\"#d8576b\"],[0.6666666666666666,\"#ed7953\"],[0.7777777777777778,\"#fb9f3a\"],[0.8888888888888888,\"#fdca26\"],[1.0,\"#f0f921\"]]}],\"choropleth\":[{\"type\":\"choropleth\",\"colorbar\":{\"outlinewidth\":0,\"ticks\":\"\"}}],\"histogram2d\":[{\"type\":\"histogram2d\",\"colorbar\":{\"outlinewidth\":0,\"ticks\":\"\"},\"colorscale\":[[0.0,\"#0d0887\"],[0.1111111111111111,\"#46039f\"],[0.2222222222222222,\"#7201a8\"],[0.3333333333333333,\"#9c179e\"],[0.4444444444444444,\"#bd3786\"],[0.5555555555555556,\"#d8576b\"],[0.6666666666666666,\"#ed7953\"],[0.7777777777777778,\"#fb9f3a\"],[0.8888888888888888,\"#fdca26\"],[1.0,\"#f0f921\"]]}],\"heatmap\":[{\"type\":\"heatmap\",\"colorbar\":{\"outlinewidth\":0,\"ticks\":\"\"},\"colorscale\":[[0.0,\"#0d0887\"],[0.1111111111111111,\"#46039f\"],[0.2222222222222222,\"#7201a8\"],[0.3333333333333333,\"#9c179e\"],[0.4444444444444444,\"#bd3786\"],[0.5555555555555556,\"#d8576b\"],[0.6666666666666666,\"#ed7953\"],[0.7777777777777778,\"#fb9f3a\"],[0.8888888888888888,\"#fdca26\"],[1.0,\"#f0f921\"]]}],\"heatmapgl\":[{\"type\":\"heatmapgl\",\"colorbar\":{\"outlinewidth\":0,\"ticks\":\"\"},\"colorscale\":[[0.0,\"#0d0887\"],[0.1111111111111111,\"#46039f\"],[0.2222222222222222,\"#7201a8\"],[0.3333333333333333,\"#9c179e\"],[0.4444444444444444,\"#bd3786\"],[0.5555555555555556,\"#d8576b\"],[0.6666666666666666,\"#ed7953\"],[0.7777777777777778,\"#fb9f3a\"],[0.8888888888888888,\"#fdca26\"],[1.0,\"#f0f921\"]]}],\"contourcarpet\":[{\"type\":\"contourcarpet\",\"colorbar\":{\"outlinewidth\":0,\"ticks\":\"\"}}],\"contour\":[{\"type\":\"contour\",\"colorbar\":{\"outlinewidth\":0,\"ticks\":\"\"},\"colorscale\":[[0.0,\"#0d0887\"],[0.1111111111111111,\"#46039f\"],[0.2222222222222222,\"#7201a8\"],[0.3333333333333333,\"#9c179e\"],[0.4444444444444444,\"#bd3786\"],[0.5555555555555556,\"#d8576b\"],[0.6666666666666666,\"#ed7953\"],[0.7777777777777778,\"#fb9f3a\"],[0.8888888888888888,\"#fdca26\"],[1.0,\"#f0f921\"]]}],\"surface\":[{\"type\":\"surface\",\"colorbar\":{\"outlinewidth\":0,\"ticks\":\"\"},\"colorscale\":[[0.0,\"#0d0887\"],[0.1111111111111111,\"#46039f\"],[0.2222222222222222,\"#7201a8\"],[0.3333333333333333,\"#9c179e\"],[0.4444444444444444,\"#bd3786\"],[0.5555555555555556,\"#d8576b\"],[0.6666666666666666,\"#ed7953\"],[0.7777777777777778,\"#fb9f3a\"],[0.8888888888888888,\"#fdca26\"],[1.0,\"#f0f921\"]]}],\"mesh3d\":[{\"type\":\"mesh3d\",\"colorbar\":{\"outlinewidth\":0,\"ticks\":\"\"}}],\"scatter\":[{\"fillpattern\":{\"fillmode\":\"overlay\",\"size\":10,\"solidity\":0.2},\"type\":\"scatter\"}],\"parcoords\":[{\"type\":\"parcoords\",\"line\":{\"colorbar\":{\"outlinewidth\":0,\"ticks\":\"\"}}}],\"scatterpolargl\":[{\"type\":\"scatterpolargl\",\"marker\":{\"colorbar\":{\"outlinewidth\":0,\"ticks\":\"\"}}}],\"bar\":[{\"error_x\":{\"color\":\"#2a3f5f\"},\"error_y\":{\"color\":\"#2a3f5f\"},\"marker\":{\"line\":{\"color\":\"#E5ECF6\",\"width\":0.5},\"pattern\":{\"fillmode\":\"overlay\",\"size\":10,\"solidity\":0.2}},\"type\":\"bar\"}],\"scattergeo\":[{\"type\":\"scattergeo\",\"marker\":{\"colorbar\":{\"outlinewidth\":0,\"ticks\":\"\"}}}],\"scatterpolar\":[{\"type\":\"scatterpolar\",\"marker\":{\"colorbar\":{\"outlinewidth\":0,\"ticks\":\"\"}}}],\"histogram\":[{\"marker\":{\"pattern\":{\"fillmode\":\"overlay\",\"size\":10,\"solidity\":0.2}},\"type\":\"histogram\"}],\"scattergl\":[{\"type\":\"scattergl\",\"marker\":{\"colorbar\":{\"outlinewidth\":0,\"ticks\":\"\"}}}],\"scatter3d\":[{\"type\":\"scatter3d\",\"line\":{\"colorbar\":{\"outlinewidth\":0,\"ticks\":\"\"}},\"marker\":{\"colorbar\":{\"outlinewidth\":0,\"ticks\":\"\"}}}],\"scattermapbox\":[{\"type\":\"scattermapbox\",\"marker\":{\"colorbar\":{\"outlinewidth\":0,\"ticks\":\"\"}}}],\"scatterternary\":[{\"type\":\"scatterternary\",\"marker\":{\"colorbar\":{\"outlinewidth\":0,\"ticks\":\"\"}}}],\"scattercarpet\":[{\"type\":\"scattercarpet\",\"marker\":{\"colorbar\":{\"outlinewidth\":0,\"ticks\":\"\"}}}],\"carpet\":[{\"aaxis\":{\"endlinecolor\":\"#2a3f5f\",\"gridcolor\":\"white\",\"linecolor\":\"white\",\"minorgridcolor\":\"white\",\"startlinecolor\":\"#2a3f5f\"},\"baxis\":{\"endlinecolor\":\"#2a3f5f\",\"gridcolor\":\"white\",\"linecolor\":\"white\",\"minorgridcolor\":\"white\",\"startlinecolor\":\"#2a3f5f\"},\"type\":\"carpet\"}],\"table\":[{\"cells\":{\"fill\":{\"color\":\"#EBF0F8\"},\"line\":{\"color\":\"white\"}},\"header\":{\"fill\":{\"color\":\"#C8D4E3\"},\"line\":{\"color\":\"white\"}},\"type\":\"table\"}],\"barpolar\":[{\"marker\":{\"line\":{\"color\":\"#E5ECF6\",\"width\":0.5},\"pattern\":{\"fillmode\":\"overlay\",\"size\":10,\"solidity\":0.2}},\"type\":\"barpolar\"}],\"pie\":[{\"automargin\":true,\"type\":\"pie\"}]},\"layout\":{\"autotypenumbers\":\"strict\",\"colorway\":[\"#636efa\",\"#EF553B\",\"#00cc96\",\"#ab63fa\",\"#FFA15A\",\"#19d3f3\",\"#FF6692\",\"#B6E880\",\"#FF97FF\",\"#FECB52\"],\"font\":{\"color\":\"#2a3f5f\"},\"hovermode\":\"closest\",\"hoverlabel\":{\"align\":\"left\"},\"paper_bgcolor\":\"white\",\"plot_bgcolor\":\"#E5ECF6\",\"polar\":{\"bgcolor\":\"#E5ECF6\",\"angularaxis\":{\"gridcolor\":\"white\",\"linecolor\":\"white\",\"ticks\":\"\"},\"radialaxis\":{\"gridcolor\":\"white\",\"linecolor\":\"white\",\"ticks\":\"\"}},\"ternary\":{\"bgcolor\":\"#E5ECF6\",\"aaxis\":{\"gridcolor\":\"white\",\"linecolor\":\"white\",\"ticks\":\"\"},\"baxis\":{\"gridcolor\":\"white\",\"linecolor\":\"white\",\"ticks\":\"\"},\"caxis\":{\"gridcolor\":\"white\",\"linecolor\":\"white\",\"ticks\":\"\"}},\"coloraxis\":{\"colorbar\":{\"outlinewidth\":0,\"ticks\":\"\"}},\"colorscale\":{\"sequential\":[[0.0,\"#0d0887\"],[0.1111111111111111,\"#46039f\"],[0.2222222222222222,\"#7201a8\"],[0.3333333333333333,\"#9c179e\"],[0.4444444444444444,\"#bd3786\"],[0.5555555555555556,\"#d8576b\"],[0.6666666666666666,\"#ed7953\"],[0.7777777777777778,\"#fb9f3a\"],[0.8888888888888888,\"#fdca26\"],[1.0,\"#f0f921\"]],\"sequentialminus\":[[0.0,\"#0d0887\"],[0.1111111111111111,\"#46039f\"],[0.2222222222222222,\"#7201a8\"],[0.3333333333333333,\"#9c179e\"],[0.4444444444444444,\"#bd3786\"],[0.5555555555555556,\"#d8576b\"],[0.6666666666666666,\"#ed7953\"],[0.7777777777777778,\"#fb9f3a\"],[0.8888888888888888,\"#fdca26\"],[1.0,\"#f0f921\"]],\"diverging\":[[0,\"#8e0152\"],[0.1,\"#c51b7d\"],[0.2,\"#de77ae\"],[0.3,\"#f1b6da\"],[0.4,\"#fde0ef\"],[0.5,\"#f7f7f7\"],[0.6,\"#e6f5d0\"],[0.7,\"#b8e186\"],[0.8,\"#7fbc41\"],[0.9,\"#4d9221\"],[1,\"#276419\"]]},\"xaxis\":{\"gridcolor\":\"white\",\"linecolor\":\"white\",\"ticks\":\"\",\"title\":{\"standoff\":15},\"zerolinecolor\":\"white\",\"automargin\":true,\"zerolinewidth\":2},\"yaxis\":{\"gridcolor\":\"white\",\"linecolor\":\"white\",\"ticks\":\"\",\"title\":{\"standoff\":15},\"zerolinecolor\":\"white\",\"automargin\":true,\"zerolinewidth\":2},\"scene\":{\"xaxis\":{\"backgroundcolor\":\"#E5ECF6\",\"gridcolor\":\"white\",\"linecolor\":\"white\",\"showbackground\":true,\"ticks\":\"\",\"zerolinecolor\":\"white\",\"gridwidth\":2},\"yaxis\":{\"backgroundcolor\":\"#E5ECF6\",\"gridcolor\":\"white\",\"linecolor\":\"white\",\"showbackground\":true,\"ticks\":\"\",\"zerolinecolor\":\"white\",\"gridwidth\":2},\"zaxis\":{\"backgroundcolor\":\"#E5ECF6\",\"gridcolor\":\"white\",\"linecolor\":\"white\",\"showbackground\":true,\"ticks\":\"\",\"zerolinecolor\":\"white\",\"gridwidth\":2}},\"shapedefaults\":{\"line\":{\"color\":\"#2a3f5f\"}},\"annotationdefaults\":{\"arrowcolor\":\"#2a3f5f\",\"arrowhead\":0,\"arrowwidth\":1},\"geo\":{\"bgcolor\":\"white\",\"landcolor\":\"#E5ECF6\",\"subunitcolor\":\"white\",\"showland\":true,\"showlakes\":true,\"lakecolor\":\"white\"},\"title\":{\"x\":0.05},\"mapbox\":{\"style\":\"light\"}}},\"title\":{\"text\":\"Scatter Plot: Gender vs. Total Spend\"},\"xaxis\":{\"title\":{\"text\":\"Gender\"}},\"yaxis\":{\"title\":{\"text\":\"Total Spend\"}}},                        {\"responsive\": true}                    ).then(function(){\n",
       "                            \n",
       "var gd = document.getElementById('8abe35b2-c6b1-472b-97c7-0176845246ff');\n",
       "var x = new MutationObserver(function (mutations, observer) {{\n",
       "        var display = window.getComputedStyle(gd).display;\n",
       "        if (!display || display === 'none') {{\n",
       "            console.log([gd, 'removed!']);\n",
       "            Plotly.purge(gd);\n",
       "            observer.disconnect();\n",
       "        }}\n",
       "}});\n",
       "\n",
       "// Listen for the removal of the full notebook cells\n",
       "var notebookContainer = gd.closest('#notebook-container');\n",
       "if (notebookContainer) {{\n",
       "    x.observe(notebookContainer, {childList: true});\n",
       "}}\n",
       "\n",
       "// Listen for the clearing of the current output cell\n",
       "var outputEl = gd.closest('.output');\n",
       "if (outputEl) {{\n",
       "    x.observe(outputEl, {childList: true});\n",
       "}}\n",
       "\n",
       "                        })                };                });            </script>        </div>"
      ]
     },
     "metadata": {},
     "output_type": "display_data"
    }
   ],
   "source": [
    "fig = go.Figure()\n",
    "\n",
    "fig.add_trace(go.Scatter(x=df['Gender'], y=df['Total Spend'],\n",
    "                         mode='markers',\n",
    "                         marker=dict(color='green'),\n",
    "                         text=df.index))  # Use index as hover text\n",
    "\n",
    "fig.update_layout(title='Scatter Plot: Gender vs. Total Spend',\n",
    "                  xaxis=dict(title='Gender'),\n",
    "                  yaxis=dict(title='Total Spend'))\n",
    "\n",
    "fig.show()"
   ]
  },
  {
   "cell_type": "code",
   "execution_count": 27,
   "id": "2b3ad00f",
   "metadata": {},
   "outputs": [
    {
     "data": {
      "application/vnd.plotly.v1+json": {
       "config": {
        "plotlyServerURL": "https://plot.ly"
       },
       "data": [
        {
         "marker": {
          "color": "blue"
         },
         "mode": "markers",
         "text": [
          0,
          1,
          2,
          3,
          4,
          5,
          6,
          7,
          8,
          9,
          10,
          11,
          12,
          13,
          14,
          15,
          16,
          17,
          18,
          19,
          20,
          21,
          22,
          23,
          24,
          25,
          26,
          27,
          28,
          29,
          30,
          31,
          32,
          33,
          34,
          35,
          36,
          37,
          38,
          39,
          40,
          41,
          42,
          43,
          44,
          45,
          46,
          47,
          48,
          49,
          50,
          51,
          52,
          53,
          54,
          55,
          56,
          57,
          58,
          59,
          60,
          61,
          62,
          63,
          64,
          65,
          66,
          67,
          68,
          69,
          70,
          71,
          72,
          73,
          74,
          75,
          76,
          77,
          78,
          79,
          80,
          81,
          82,
          83,
          84,
          85,
          86,
          87,
          88,
          89,
          90,
          91,
          92,
          93,
          94,
          95,
          96,
          97,
          98,
          99,
          100,
          101,
          102,
          103,
          104,
          105,
          106,
          107,
          108,
          109,
          110,
          111,
          112,
          113,
          114,
          115,
          116,
          117,
          118,
          119,
          120,
          121,
          122,
          123,
          124,
          125,
          126,
          127,
          128,
          129,
          130,
          131,
          132,
          133,
          134,
          135,
          136,
          137,
          138,
          139,
          140,
          141,
          142,
          143,
          144,
          145,
          146,
          147,
          148,
          149,
          150,
          151,
          152,
          153,
          154,
          155,
          156,
          157,
          158,
          159,
          160,
          161,
          162,
          163,
          164,
          165,
          166,
          167,
          168,
          169,
          170,
          171,
          172,
          173,
          174,
          175,
          176,
          177,
          178,
          179,
          180,
          181,
          182,
          183,
          184,
          185,
          186,
          187,
          188,
          189,
          190,
          191,
          192,
          193,
          194,
          195,
          196,
          197,
          198,
          199,
          200,
          201,
          202,
          203,
          204,
          205,
          206,
          207,
          208,
          209,
          210,
          211,
          212,
          213,
          214,
          215,
          216,
          217,
          218,
          219,
          220,
          221,
          222,
          223,
          224,
          225,
          226,
          227,
          228,
          229,
          230,
          231,
          232,
          233,
          234,
          235,
          236,
          237,
          238,
          239,
          240,
          241,
          242,
          243,
          244,
          245,
          246,
          247,
          248,
          249,
          250,
          251,
          252,
          253,
          254,
          255,
          256,
          257,
          258,
          259,
          260,
          261,
          262,
          263,
          264,
          265,
          266,
          267,
          268,
          269,
          270,
          271,
          272,
          273,
          274,
          275,
          276,
          277,
          278,
          279,
          280,
          281,
          282,
          283,
          284,
          285,
          286,
          287,
          288,
          289,
          290,
          291,
          292,
          293,
          294,
          295,
          296,
          297,
          298,
          299,
          300,
          301,
          302,
          303,
          304,
          305,
          306,
          307,
          308,
          309,
          310,
          311,
          312,
          313,
          314,
          315,
          316,
          317,
          318,
          319,
          320,
          321,
          322,
          323,
          324,
          325,
          326,
          327,
          328,
          329,
          330,
          331,
          332,
          333,
          334,
          335,
          336,
          337,
          338,
          339,
          340,
          341,
          342,
          343,
          344,
          345,
          346,
          347,
          348,
          349
         ],
         "type": "scatter",
         "x": [
          1120.2,
          780.5,
          510.75,
          1480.3,
          720.4,
          440.8,
          1150.6,
          800.9,
          495.25,
          1520.1,
          690.3,
          470.5,
          1200.8,
          820.75,
          530.4,
          1360.2,
          700.6,
          450.9,
          1170.3,
          790.2,
          505.75,
          1470.5,
          710.4,
          430.8,
          1140.6,
          810.9,
          485.25,
          1500.1,
          670.3,
          460.5,
          1190.8,
          830.75,
          520.4,
          1370.2,
          690.6,
          440.9,
          1160.3,
          800.2,
          500.75,
          1460.5,
          700.4,
          420.8,
          1130.6,
          820.9,
          480.25,
          1490.1,
          680.3,
          470.5,
          1180.8,
          790.2,
          505.75,
          1470.5,
          710.4,
          430.8,
          1140.6,
          810.9,
          485.25,
          1500.1,
          670.3,
          460.5,
          1190.8,
          830.75,
          520.4,
          1370.2,
          690.6,
          440.9,
          1160.3,
          800.2,
          500.75,
          1460.5,
          700.4,
          420.8,
          1130.6,
          820.9,
          480.25,
          1490.1,
          680.3,
          470.5,
          1180.8,
          790.2,
          505.75,
          1470.5,
          710.4,
          430.8,
          1140.6,
          810.9,
          485.25,
          1500.1,
          670.3,
          460.5,
          1190.8,
          830.75,
          520.4,
          1370.2,
          690.6,
          440.9,
          1160.3,
          800.2,
          500.75,
          1460.5,
          700.4,
          420.8,
          1130.6,
          820.9,
          480.25,
          1490.1,
          680.3,
          470.5,
          1180.8,
          790.2,
          505.75,
          1470.5,
          710.4,
          430.8,
          1140.6,
          810.9,
          485.25,
          1500.1,
          670.3,
          460.5,
          1190.8,
          830.75,
          520.4,
          1370.2,
          690.6,
          440.9,
          1160.3,
          800.2,
          500.75,
          1460.5,
          700.4,
          420.8,
          1130.6,
          820.9,
          480.25,
          1490.1,
          680.3,
          470.5,
          1180.8,
          790.2,
          505.75,
          1470.5,
          710.4,
          430.8,
          1130.6,
          820.9,
          480.25,
          1490.1,
          680.3,
          470.5,
          1180.8,
          790.2,
          505.75,
          1470.5,
          710.4,
          430.8,
          1140.6,
          810.9,
          485.25,
          1500.1,
          670.3,
          460.5,
          1190.8,
          830.75,
          520.4,
          1370.2,
          690.6,
          440.9,
          1160.3,
          800.2,
          500.75,
          1460.5,
          700.4,
          430.8,
          1140.6,
          820.9,
          480.25,
          1490.1,
          680.3,
          470.5,
          1180.8,
          790.2,
          505.75,
          1470.5,
          710.4,
          430.8,
          1130.6,
          820.9,
          485.25,
          1500.1,
          670.3,
          460.5,
          1190.8,
          830.75,
          520.4,
          1370.2,
          690.6,
          440.9,
          1160.3,
          800.2,
          1420.8,
          730.4,
          450.6,
          1210.6,
          780.9,
          495.25,
          1390.2,
          670.6,
          460.9,
          1170.3,
          810.2,
          515.75,
          1450.5,
          690.4,
          420.8,
          1130.6,
          820.9,
          480.25,
          1490.1,
          680.3,
          470.5,
          1180.8,
          790.2,
          505.75,
          1470.5,
          710.4,
          430.8,
          1140.6,
          820.9,
          485.25,
          1500.1,
          670.3,
          460.5,
          1190.8,
          830.75,
          520.4,
          1370.2,
          690.6,
          440.9,
          1160.3,
          800.2,
          525.75,
          1460.5,
          720.4,
          440.8,
          1150.6,
          830.9,
          490.25,
          1480.1,
          690.3,
          480.5,
          1170.8,
          790.2,
          510.75,
          1440.5,
          700.4,
          410.8,
          1160.6,
          810.9,
          495.25,
          1490.1,
          660.3,
          430.5,
          1200.8,
          780.2,
          505.75,
          1460.5,
          710.4,
          450.8,
          1140.6,
          800.9,
          475.25,
          1480.1,
          660.3,
          470.5,
          1190.8,
          770.2,
          515.75,
          1450.5,
          710.4,
          430.8,
          1160.6,
          820.9,
          495.25,
          1490.1,
          660.3,
          440.5,
          1200.8,
          780.2,
          505.75,
          1460.5,
          710.4,
          450.8,
          1140.6,
          800.9,
          475.25,
          1480.1,
          660.3,
          470.5,
          1190.8,
          800.2,
          515.75,
          1450.5,
          710.4,
          430.8,
          1160.6,
          820.9,
          495.25,
          1490.1,
          660.3,
          440.5,
          1200.8,
          780.2,
          505.75,
          1460.5,
          710.4,
          450.8,
          1140.6,
          800.9,
          475.25,
          1480.1,
          660.3,
          470.5,
          1190.8,
          780.2,
          515.75,
          1450.5,
          710.4,
          430.8,
          1160.6,
          820.9,
          495.25,
          1490.1,
          660.3,
          440.5,
          1200.8,
          780.2,
          505.75,
          1460.5,
          710.4,
          450.8,
          1140.6,
          800.9,
          475.25,
          1480.1,
          660.3,
          470.5,
          1190.8,
          780.2,
          515.75
         ],
         "y": [
          14,
          11,
          9,
          19,
          13,
          8,
          15,
          12,
          10,
          21,
          11,
          7,
          16,
          13,
          9,
          18,
          12,
          8,
          14,
          11,
          10,
          20,
          13,
          7,
          15,
          12,
          9,
          21,
          10,
          8,
          16,
          13,
          9,
          18,
          12,
          8,
          14,
          11,
          10,
          20,
          13,
          7,
          15,
          12,
          9,
          21,
          10,
          8,
          16,
          11,
          10,
          20,
          13,
          7,
          15,
          12,
          9,
          21,
          10,
          8,
          16,
          13,
          9,
          18,
          12,
          8,
          14,
          11,
          10,
          20,
          13,
          7,
          15,
          12,
          9,
          21,
          10,
          8,
          16,
          11,
          10,
          20,
          13,
          7,
          15,
          12,
          9,
          21,
          10,
          8,
          16,
          13,
          9,
          18,
          12,
          8,
          14,
          11,
          10,
          20,
          13,
          7,
          15,
          12,
          9,
          21,
          10,
          8,
          16,
          11,
          10,
          20,
          13,
          7,
          15,
          12,
          9,
          21,
          10,
          8,
          16,
          13,
          9,
          18,
          12,
          8,
          14,
          11,
          10,
          20,
          13,
          7,
          15,
          12,
          9,
          21,
          10,
          8,
          16,
          11,
          10,
          20,
          13,
          7,
          15,
          12,
          9,
          21,
          10,
          8,
          16,
          11,
          10,
          20,
          13,
          7,
          15,
          12,
          9,
          21,
          10,
          8,
          16,
          13,
          9,
          18,
          12,
          8,
          14,
          11,
          10,
          20,
          13,
          7,
          15,
          12,
          9,
          21,
          10,
          8,
          16,
          11,
          10,
          20,
          13,
          7,
          15,
          12,
          9,
          21,
          10,
          8,
          16,
          13,
          9,
          18,
          12,
          8,
          14,
          11,
          19,
          14,
          7,
          17,
          11,
          10,
          18,
          12,
          8,
          14,
          11,
          9,
          20,
          13,
          7,
          15,
          12,
          9,
          21,
          10,
          8,
          16,
          11,
          10,
          20,
          13,
          7,
          15,
          12,
          9,
          21,
          10,
          8,
          16,
          13,
          9,
          18,
          12,
          8,
          14,
          11,
          9,
          20,
          13,
          7,
          15,
          12,
          9,
          21,
          10,
          8,
          16,
          11,
          10,
          19,
          13,
          7,
          15,
          12,
          9,
          21,
          10,
          8,
          16,
          11,
          10,
          20,
          13,
          7,
          15,
          12,
          9,
          21,
          10,
          8,
          16,
          11,
          10,
          19,
          13,
          7,
          15,
          12,
          9,
          21,
          10,
          8,
          16,
          11,
          10,
          20,
          13,
          7,
          15,
          12,
          9,
          21,
          10,
          8,
          16,
          11,
          10,
          19,
          13,
          7,
          15,
          12,
          9,
          21,
          10,
          8,
          16,
          11,
          10,
          20,
          13,
          7,
          15,
          12,
          9,
          21,
          10,
          8,
          16,
          11,
          10,
          19,
          13,
          7,
          15,
          12,
          9,
          21,
          10,
          8,
          16,
          11,
          10,
          20,
          13,
          7,
          15,
          12,
          9,
          21,
          10,
          8,
          16,
          11,
          10
         ]
        }
       ],
       "layout": {
        "template": {
         "data": {
          "bar": [
           {
            "error_x": {
             "color": "#2a3f5f"
            },
            "error_y": {
             "color": "#2a3f5f"
            },
            "marker": {
             "line": {
              "color": "#E5ECF6",
              "width": 0.5
             },
             "pattern": {
              "fillmode": "overlay",
              "size": 10,
              "solidity": 0.2
             }
            },
            "type": "bar"
           }
          ],
          "barpolar": [
           {
            "marker": {
             "line": {
              "color": "#E5ECF6",
              "width": 0.5
             },
             "pattern": {
              "fillmode": "overlay",
              "size": 10,
              "solidity": 0.2
             }
            },
            "type": "barpolar"
           }
          ],
          "carpet": [
           {
            "aaxis": {
             "endlinecolor": "#2a3f5f",
             "gridcolor": "white",
             "linecolor": "white",
             "minorgridcolor": "white",
             "startlinecolor": "#2a3f5f"
            },
            "baxis": {
             "endlinecolor": "#2a3f5f",
             "gridcolor": "white",
             "linecolor": "white",
             "minorgridcolor": "white",
             "startlinecolor": "#2a3f5f"
            },
            "type": "carpet"
           }
          ],
          "choropleth": [
           {
            "colorbar": {
             "outlinewidth": 0,
             "ticks": ""
            },
            "type": "choropleth"
           }
          ],
          "contour": [
           {
            "colorbar": {
             "outlinewidth": 0,
             "ticks": ""
            },
            "colorscale": [
             [
              0,
              "#0d0887"
             ],
             [
              0.1111111111111111,
              "#46039f"
             ],
             [
              0.2222222222222222,
              "#7201a8"
             ],
             [
              0.3333333333333333,
              "#9c179e"
             ],
             [
              0.4444444444444444,
              "#bd3786"
             ],
             [
              0.5555555555555556,
              "#d8576b"
             ],
             [
              0.6666666666666666,
              "#ed7953"
             ],
             [
              0.7777777777777778,
              "#fb9f3a"
             ],
             [
              0.8888888888888888,
              "#fdca26"
             ],
             [
              1,
              "#f0f921"
             ]
            ],
            "type": "contour"
           }
          ],
          "contourcarpet": [
           {
            "colorbar": {
             "outlinewidth": 0,
             "ticks": ""
            },
            "type": "contourcarpet"
           }
          ],
          "heatmap": [
           {
            "colorbar": {
             "outlinewidth": 0,
             "ticks": ""
            },
            "colorscale": [
             [
              0,
              "#0d0887"
             ],
             [
              0.1111111111111111,
              "#46039f"
             ],
             [
              0.2222222222222222,
              "#7201a8"
             ],
             [
              0.3333333333333333,
              "#9c179e"
             ],
             [
              0.4444444444444444,
              "#bd3786"
             ],
             [
              0.5555555555555556,
              "#d8576b"
             ],
             [
              0.6666666666666666,
              "#ed7953"
             ],
             [
              0.7777777777777778,
              "#fb9f3a"
             ],
             [
              0.8888888888888888,
              "#fdca26"
             ],
             [
              1,
              "#f0f921"
             ]
            ],
            "type": "heatmap"
           }
          ],
          "heatmapgl": [
           {
            "colorbar": {
             "outlinewidth": 0,
             "ticks": ""
            },
            "colorscale": [
             [
              0,
              "#0d0887"
             ],
             [
              0.1111111111111111,
              "#46039f"
             ],
             [
              0.2222222222222222,
              "#7201a8"
             ],
             [
              0.3333333333333333,
              "#9c179e"
             ],
             [
              0.4444444444444444,
              "#bd3786"
             ],
             [
              0.5555555555555556,
              "#d8576b"
             ],
             [
              0.6666666666666666,
              "#ed7953"
             ],
             [
              0.7777777777777778,
              "#fb9f3a"
             ],
             [
              0.8888888888888888,
              "#fdca26"
             ],
             [
              1,
              "#f0f921"
             ]
            ],
            "type": "heatmapgl"
           }
          ],
          "histogram": [
           {
            "marker": {
             "pattern": {
              "fillmode": "overlay",
              "size": 10,
              "solidity": 0.2
             }
            },
            "type": "histogram"
           }
          ],
          "histogram2d": [
           {
            "colorbar": {
             "outlinewidth": 0,
             "ticks": ""
            },
            "colorscale": [
             [
              0,
              "#0d0887"
             ],
             [
              0.1111111111111111,
              "#46039f"
             ],
             [
              0.2222222222222222,
              "#7201a8"
             ],
             [
              0.3333333333333333,
              "#9c179e"
             ],
             [
              0.4444444444444444,
              "#bd3786"
             ],
             [
              0.5555555555555556,
              "#d8576b"
             ],
             [
              0.6666666666666666,
              "#ed7953"
             ],
             [
              0.7777777777777778,
              "#fb9f3a"
             ],
             [
              0.8888888888888888,
              "#fdca26"
             ],
             [
              1,
              "#f0f921"
             ]
            ],
            "type": "histogram2d"
           }
          ],
          "histogram2dcontour": [
           {
            "colorbar": {
             "outlinewidth": 0,
             "ticks": ""
            },
            "colorscale": [
             [
              0,
              "#0d0887"
             ],
             [
              0.1111111111111111,
              "#46039f"
             ],
             [
              0.2222222222222222,
              "#7201a8"
             ],
             [
              0.3333333333333333,
              "#9c179e"
             ],
             [
              0.4444444444444444,
              "#bd3786"
             ],
             [
              0.5555555555555556,
              "#d8576b"
             ],
             [
              0.6666666666666666,
              "#ed7953"
             ],
             [
              0.7777777777777778,
              "#fb9f3a"
             ],
             [
              0.8888888888888888,
              "#fdca26"
             ],
             [
              1,
              "#f0f921"
             ]
            ],
            "type": "histogram2dcontour"
           }
          ],
          "mesh3d": [
           {
            "colorbar": {
             "outlinewidth": 0,
             "ticks": ""
            },
            "type": "mesh3d"
           }
          ],
          "parcoords": [
           {
            "line": {
             "colorbar": {
              "outlinewidth": 0,
              "ticks": ""
             }
            },
            "type": "parcoords"
           }
          ],
          "pie": [
           {
            "automargin": true,
            "type": "pie"
           }
          ],
          "scatter": [
           {
            "fillpattern": {
             "fillmode": "overlay",
             "size": 10,
             "solidity": 0.2
            },
            "type": "scatter"
           }
          ],
          "scatter3d": [
           {
            "line": {
             "colorbar": {
              "outlinewidth": 0,
              "ticks": ""
             }
            },
            "marker": {
             "colorbar": {
              "outlinewidth": 0,
              "ticks": ""
             }
            },
            "type": "scatter3d"
           }
          ],
          "scattercarpet": [
           {
            "marker": {
             "colorbar": {
              "outlinewidth": 0,
              "ticks": ""
             }
            },
            "type": "scattercarpet"
           }
          ],
          "scattergeo": [
           {
            "marker": {
             "colorbar": {
              "outlinewidth": 0,
              "ticks": ""
             }
            },
            "type": "scattergeo"
           }
          ],
          "scattergl": [
           {
            "marker": {
             "colorbar": {
              "outlinewidth": 0,
              "ticks": ""
             }
            },
            "type": "scattergl"
           }
          ],
          "scattermapbox": [
           {
            "marker": {
             "colorbar": {
              "outlinewidth": 0,
              "ticks": ""
             }
            },
            "type": "scattermapbox"
           }
          ],
          "scatterpolar": [
           {
            "marker": {
             "colorbar": {
              "outlinewidth": 0,
              "ticks": ""
             }
            },
            "type": "scatterpolar"
           }
          ],
          "scatterpolargl": [
           {
            "marker": {
             "colorbar": {
              "outlinewidth": 0,
              "ticks": ""
             }
            },
            "type": "scatterpolargl"
           }
          ],
          "scatterternary": [
           {
            "marker": {
             "colorbar": {
              "outlinewidth": 0,
              "ticks": ""
             }
            },
            "type": "scatterternary"
           }
          ],
          "surface": [
           {
            "colorbar": {
             "outlinewidth": 0,
             "ticks": ""
            },
            "colorscale": [
             [
              0,
              "#0d0887"
             ],
             [
              0.1111111111111111,
              "#46039f"
             ],
             [
              0.2222222222222222,
              "#7201a8"
             ],
             [
              0.3333333333333333,
              "#9c179e"
             ],
             [
              0.4444444444444444,
              "#bd3786"
             ],
             [
              0.5555555555555556,
              "#d8576b"
             ],
             [
              0.6666666666666666,
              "#ed7953"
             ],
             [
              0.7777777777777778,
              "#fb9f3a"
             ],
             [
              0.8888888888888888,
              "#fdca26"
             ],
             [
              1,
              "#f0f921"
             ]
            ],
            "type": "surface"
           }
          ],
          "table": [
           {
            "cells": {
             "fill": {
              "color": "#EBF0F8"
             },
             "line": {
              "color": "white"
             }
            },
            "header": {
             "fill": {
              "color": "#C8D4E3"
             },
             "line": {
              "color": "white"
             }
            },
            "type": "table"
           }
          ]
         },
         "layout": {
          "annotationdefaults": {
           "arrowcolor": "#2a3f5f",
           "arrowhead": 0,
           "arrowwidth": 1
          },
          "autotypenumbers": "strict",
          "coloraxis": {
           "colorbar": {
            "outlinewidth": 0,
            "ticks": ""
           }
          },
          "colorscale": {
           "diverging": [
            [
             0,
             "#8e0152"
            ],
            [
             0.1,
             "#c51b7d"
            ],
            [
             0.2,
             "#de77ae"
            ],
            [
             0.3,
             "#f1b6da"
            ],
            [
             0.4,
             "#fde0ef"
            ],
            [
             0.5,
             "#f7f7f7"
            ],
            [
             0.6,
             "#e6f5d0"
            ],
            [
             0.7,
             "#b8e186"
            ],
            [
             0.8,
             "#7fbc41"
            ],
            [
             0.9,
             "#4d9221"
            ],
            [
             1,
             "#276419"
            ]
           ],
           "sequential": [
            [
             0,
             "#0d0887"
            ],
            [
             0.1111111111111111,
             "#46039f"
            ],
            [
             0.2222222222222222,
             "#7201a8"
            ],
            [
             0.3333333333333333,
             "#9c179e"
            ],
            [
             0.4444444444444444,
             "#bd3786"
            ],
            [
             0.5555555555555556,
             "#d8576b"
            ],
            [
             0.6666666666666666,
             "#ed7953"
            ],
            [
             0.7777777777777778,
             "#fb9f3a"
            ],
            [
             0.8888888888888888,
             "#fdca26"
            ],
            [
             1,
             "#f0f921"
            ]
           ],
           "sequentialminus": [
            [
             0,
             "#0d0887"
            ],
            [
             0.1111111111111111,
             "#46039f"
            ],
            [
             0.2222222222222222,
             "#7201a8"
            ],
            [
             0.3333333333333333,
             "#9c179e"
            ],
            [
             0.4444444444444444,
             "#bd3786"
            ],
            [
             0.5555555555555556,
             "#d8576b"
            ],
            [
             0.6666666666666666,
             "#ed7953"
            ],
            [
             0.7777777777777778,
             "#fb9f3a"
            ],
            [
             0.8888888888888888,
             "#fdca26"
            ],
            [
             1,
             "#f0f921"
            ]
           ]
          },
          "colorway": [
           "#636efa",
           "#EF553B",
           "#00cc96",
           "#ab63fa",
           "#FFA15A",
           "#19d3f3",
           "#FF6692",
           "#B6E880",
           "#FF97FF",
           "#FECB52"
          ],
          "font": {
           "color": "#2a3f5f"
          },
          "geo": {
           "bgcolor": "white",
           "lakecolor": "white",
           "landcolor": "#E5ECF6",
           "showlakes": true,
           "showland": true,
           "subunitcolor": "white"
          },
          "hoverlabel": {
           "align": "left"
          },
          "hovermode": "closest",
          "mapbox": {
           "style": "light"
          },
          "paper_bgcolor": "white",
          "plot_bgcolor": "#E5ECF6",
          "polar": {
           "angularaxis": {
            "gridcolor": "white",
            "linecolor": "white",
            "ticks": ""
           },
           "bgcolor": "#E5ECF6",
           "radialaxis": {
            "gridcolor": "white",
            "linecolor": "white",
            "ticks": ""
           }
          },
          "scene": {
           "xaxis": {
            "backgroundcolor": "#E5ECF6",
            "gridcolor": "white",
            "gridwidth": 2,
            "linecolor": "white",
            "showbackground": true,
            "ticks": "",
            "zerolinecolor": "white"
           },
           "yaxis": {
            "backgroundcolor": "#E5ECF6",
            "gridcolor": "white",
            "gridwidth": 2,
            "linecolor": "white",
            "showbackground": true,
            "ticks": "",
            "zerolinecolor": "white"
           },
           "zaxis": {
            "backgroundcolor": "#E5ECF6",
            "gridcolor": "white",
            "gridwidth": 2,
            "linecolor": "white",
            "showbackground": true,
            "ticks": "",
            "zerolinecolor": "white"
           }
          },
          "shapedefaults": {
           "line": {
            "color": "#2a3f5f"
           }
          },
          "ternary": {
           "aaxis": {
            "gridcolor": "white",
            "linecolor": "white",
            "ticks": ""
           },
           "baxis": {
            "gridcolor": "white",
            "linecolor": "white",
            "ticks": ""
           },
           "bgcolor": "#E5ECF6",
           "caxis": {
            "gridcolor": "white",
            "linecolor": "white",
            "ticks": ""
           }
          },
          "title": {
           "x": 0.05
          },
          "xaxis": {
           "automargin": true,
           "gridcolor": "white",
           "linecolor": "white",
           "ticks": "",
           "title": {
            "standoff": 15
           },
           "zerolinecolor": "white",
           "zerolinewidth": 2
          },
          "yaxis": {
           "automargin": true,
           "gridcolor": "white",
           "linecolor": "white",
           "ticks": "",
           "title": {
            "standoff": 15
           },
           "zerolinecolor": "white",
           "zerolinewidth": 2
          }
         }
        },
        "title": {
         "text": "Scatter Plot: Total Spend vs. Items Purchased"
        },
        "xaxis": {
         "title": {
          "text": "Total Spend"
         }
        },
        "yaxis": {
         "title": {
          "text": "Items Purchased"
         }
        }
       }
      },
      "text/html": [
       "<div>                            <div id=\"8a0e305c-adcc-4ef4-9a48-d9a77833061d\" class=\"plotly-graph-div\" style=\"height:525px; width:100%;\"></div>            <script type=\"text/javascript\">                require([\"plotly\"], function(Plotly) {                    window.PLOTLYENV=window.PLOTLYENV || {};                                    if (document.getElementById(\"8a0e305c-adcc-4ef4-9a48-d9a77833061d\")) {                    Plotly.newPlot(                        \"8a0e305c-adcc-4ef4-9a48-d9a77833061d\",                        [{\"marker\":{\"color\":\"blue\"},\"mode\":\"markers\",\"text\":[0.0,1.0,2.0,3.0,4.0,5.0,6.0,7.0,8.0,9.0,10.0,11.0,12.0,13.0,14.0,15.0,16.0,17.0,18.0,19.0,20.0,21.0,22.0,23.0,24.0,25.0,26.0,27.0,28.0,29.0,30.0,31.0,32.0,33.0,34.0,35.0,36.0,37.0,38.0,39.0,40.0,41.0,42.0,43.0,44.0,45.0,46.0,47.0,48.0,49.0,50.0,51.0,52.0,53.0,54.0,55.0,56.0,57.0,58.0,59.0,60.0,61.0,62.0,63.0,64.0,65.0,66.0,67.0,68.0,69.0,70.0,71.0,72.0,73.0,74.0,75.0,76.0,77.0,78.0,79.0,80.0,81.0,82.0,83.0,84.0,85.0,86.0,87.0,88.0,89.0,90.0,91.0,92.0,93.0,94.0,95.0,96.0,97.0,98.0,99.0,100.0,101.0,102.0,103.0,104.0,105.0,106.0,107.0,108.0,109.0,110.0,111.0,112.0,113.0,114.0,115.0,116.0,117.0,118.0,119.0,120.0,121.0,122.0,123.0,124.0,125.0,126.0,127.0,128.0,129.0,130.0,131.0,132.0,133.0,134.0,135.0,136.0,137.0,138.0,139.0,140.0,141.0,142.0,143.0,144.0,145.0,146.0,147.0,148.0,149.0,150.0,151.0,152.0,153.0,154.0,155.0,156.0,157.0,158.0,159.0,160.0,161.0,162.0,163.0,164.0,165.0,166.0,167.0,168.0,169.0,170.0,171.0,172.0,173.0,174.0,175.0,176.0,177.0,178.0,179.0,180.0,181.0,182.0,183.0,184.0,185.0,186.0,187.0,188.0,189.0,190.0,191.0,192.0,193.0,194.0,195.0,196.0,197.0,198.0,199.0,200.0,201.0,202.0,203.0,204.0,205.0,206.0,207.0,208.0,209.0,210.0,211.0,212.0,213.0,214.0,215.0,216.0,217.0,218.0,219.0,220.0,221.0,222.0,223.0,224.0,225.0,226.0,227.0,228.0,229.0,230.0,231.0,232.0,233.0,234.0,235.0,236.0,237.0,238.0,239.0,240.0,241.0,242.0,243.0,244.0,245.0,246.0,247.0,248.0,249.0,250.0,251.0,252.0,253.0,254.0,255.0,256.0,257.0,258.0,259.0,260.0,261.0,262.0,263.0,264.0,265.0,266.0,267.0,268.0,269.0,270.0,271.0,272.0,273.0,274.0,275.0,276.0,277.0,278.0,279.0,280.0,281.0,282.0,283.0,284.0,285.0,286.0,287.0,288.0,289.0,290.0,291.0,292.0,293.0,294.0,295.0,296.0,297.0,298.0,299.0,300.0,301.0,302.0,303.0,304.0,305.0,306.0,307.0,308.0,309.0,310.0,311.0,312.0,313.0,314.0,315.0,316.0,317.0,318.0,319.0,320.0,321.0,322.0,323.0,324.0,325.0,326.0,327.0,328.0,329.0,330.0,331.0,332.0,333.0,334.0,335.0,336.0,337.0,338.0,339.0,340.0,341.0,342.0,343.0,344.0,345.0,346.0,347.0,348.0,349.0],\"x\":[1120.2,780.5,510.75,1480.3,720.4,440.8,1150.6,800.9,495.25,1520.1,690.3,470.5,1200.8,820.75,530.4,1360.2,700.6,450.9,1170.3,790.2,505.75,1470.5,710.4,430.8,1140.6,810.9,485.25,1500.1,670.3,460.5,1190.8,830.75,520.4,1370.2,690.6,440.9,1160.3,800.2,500.75,1460.5,700.4,420.8,1130.6,820.9,480.25,1490.1,680.3,470.5,1180.8,790.2,505.75,1470.5,710.4,430.8,1140.6,810.9,485.25,1500.1,670.3,460.5,1190.8,830.75,520.4,1370.2,690.6,440.9,1160.3,800.2,500.75,1460.5,700.4,420.8,1130.6,820.9,480.25,1490.1,680.3,470.5,1180.8,790.2,505.75,1470.5,710.4,430.8,1140.6,810.9,485.25,1500.1,670.3,460.5,1190.8,830.75,520.4,1370.2,690.6,440.9,1160.3,800.2,500.75,1460.5,700.4,420.8,1130.6,820.9,480.25,1490.1,680.3,470.5,1180.8,790.2,505.75,1470.5,710.4,430.8,1140.6,810.9,485.25,1500.1,670.3,460.5,1190.8,830.75,520.4,1370.2,690.6,440.9,1160.3,800.2,500.75,1460.5,700.4,420.8,1130.6,820.9,480.25,1490.1,680.3,470.5,1180.8,790.2,505.75,1470.5,710.4,430.8,1130.6,820.9,480.25,1490.1,680.3,470.5,1180.8,790.2,505.75,1470.5,710.4,430.8,1140.6,810.9,485.25,1500.1,670.3,460.5,1190.8,830.75,520.4,1370.2,690.6,440.9,1160.3,800.2,500.75,1460.5,700.4,430.8,1140.6,820.9,480.25,1490.1,680.3,470.5,1180.8,790.2,505.75,1470.5,710.4,430.8,1130.6,820.9,485.25,1500.1,670.3,460.5,1190.8,830.75,520.4,1370.2,690.6,440.9,1160.3,800.2,1420.8,730.4,450.6,1210.6,780.9,495.25,1390.2,670.6,460.9,1170.3,810.2,515.75,1450.5,690.4,420.8,1130.6,820.9,480.25,1490.1,680.3,470.5,1180.8,790.2,505.75,1470.5,710.4,430.8,1140.6,820.9,485.25,1500.1,670.3,460.5,1190.8,830.75,520.4,1370.2,690.6,440.9,1160.3,800.2,525.75,1460.5,720.4,440.8,1150.6,830.9,490.25,1480.1,690.3,480.5,1170.8,790.2,510.75,1440.5,700.4,410.8,1160.6,810.9,495.25,1490.1,660.3,430.5,1200.8,780.2,505.75,1460.5,710.4,450.8,1140.6,800.9,475.25,1480.1,660.3,470.5,1190.8,770.2,515.75,1450.5,710.4,430.8,1160.6,820.9,495.25,1490.1,660.3,440.5,1200.8,780.2,505.75,1460.5,710.4,450.8,1140.6,800.9,475.25,1480.1,660.3,470.5,1190.8,800.2,515.75,1450.5,710.4,430.8,1160.6,820.9,495.25,1490.1,660.3,440.5,1200.8,780.2,505.75,1460.5,710.4,450.8,1140.6,800.9,475.25,1480.1,660.3,470.5,1190.8,780.2,515.75,1450.5,710.4,430.8,1160.6,820.9,495.25,1490.1,660.3,440.5,1200.8,780.2,505.75,1460.5,710.4,450.8,1140.6,800.9,475.25,1480.1,660.3,470.5,1190.8,780.2,515.75],\"y\":[14,11,9,19,13,8,15,12,10,21,11,7,16,13,9,18,12,8,14,11,10,20,13,7,15,12,9,21,10,8,16,13,9,18,12,8,14,11,10,20,13,7,15,12,9,21,10,8,16,11,10,20,13,7,15,12,9,21,10,8,16,13,9,18,12,8,14,11,10,20,13,7,15,12,9,21,10,8,16,11,10,20,13,7,15,12,9,21,10,8,16,13,9,18,12,8,14,11,10,20,13,7,15,12,9,21,10,8,16,11,10,20,13,7,15,12,9,21,10,8,16,13,9,18,12,8,14,11,10,20,13,7,15,12,9,21,10,8,16,11,10,20,13,7,15,12,9,21,10,8,16,11,10,20,13,7,15,12,9,21,10,8,16,13,9,18,12,8,14,11,10,20,13,7,15,12,9,21,10,8,16,11,10,20,13,7,15,12,9,21,10,8,16,13,9,18,12,8,14,11,19,14,7,17,11,10,18,12,8,14,11,9,20,13,7,15,12,9,21,10,8,16,11,10,20,13,7,15,12,9,21,10,8,16,13,9,18,12,8,14,11,9,20,13,7,15,12,9,21,10,8,16,11,10,19,13,7,15,12,9,21,10,8,16,11,10,20,13,7,15,12,9,21,10,8,16,11,10,19,13,7,15,12,9,21,10,8,16,11,10,20,13,7,15,12,9,21,10,8,16,11,10,19,13,7,15,12,9,21,10,8,16,11,10,20,13,7,15,12,9,21,10,8,16,11,10,19,13,7,15,12,9,21,10,8,16,11,10,20,13,7,15,12,9,21,10,8,16,11,10],\"type\":\"scatter\"}],                        {\"template\":{\"data\":{\"histogram2dcontour\":[{\"type\":\"histogram2dcontour\",\"colorbar\":{\"outlinewidth\":0,\"ticks\":\"\"},\"colorscale\":[[0.0,\"#0d0887\"],[0.1111111111111111,\"#46039f\"],[0.2222222222222222,\"#7201a8\"],[0.3333333333333333,\"#9c179e\"],[0.4444444444444444,\"#bd3786\"],[0.5555555555555556,\"#d8576b\"],[0.6666666666666666,\"#ed7953\"],[0.7777777777777778,\"#fb9f3a\"],[0.8888888888888888,\"#fdca26\"],[1.0,\"#f0f921\"]]}],\"choropleth\":[{\"type\":\"choropleth\",\"colorbar\":{\"outlinewidth\":0,\"ticks\":\"\"}}],\"histogram2d\":[{\"type\":\"histogram2d\",\"colorbar\":{\"outlinewidth\":0,\"ticks\":\"\"},\"colorscale\":[[0.0,\"#0d0887\"],[0.1111111111111111,\"#46039f\"],[0.2222222222222222,\"#7201a8\"],[0.3333333333333333,\"#9c179e\"],[0.4444444444444444,\"#bd3786\"],[0.5555555555555556,\"#d8576b\"],[0.6666666666666666,\"#ed7953\"],[0.7777777777777778,\"#fb9f3a\"],[0.8888888888888888,\"#fdca26\"],[1.0,\"#f0f921\"]]}],\"heatmap\":[{\"type\":\"heatmap\",\"colorbar\":{\"outlinewidth\":0,\"ticks\":\"\"},\"colorscale\":[[0.0,\"#0d0887\"],[0.1111111111111111,\"#46039f\"],[0.2222222222222222,\"#7201a8\"],[0.3333333333333333,\"#9c179e\"],[0.4444444444444444,\"#bd3786\"],[0.5555555555555556,\"#d8576b\"],[0.6666666666666666,\"#ed7953\"],[0.7777777777777778,\"#fb9f3a\"],[0.8888888888888888,\"#fdca26\"],[1.0,\"#f0f921\"]]}],\"heatmapgl\":[{\"type\":\"heatmapgl\",\"colorbar\":{\"outlinewidth\":0,\"ticks\":\"\"},\"colorscale\":[[0.0,\"#0d0887\"],[0.1111111111111111,\"#46039f\"],[0.2222222222222222,\"#7201a8\"],[0.3333333333333333,\"#9c179e\"],[0.4444444444444444,\"#bd3786\"],[0.5555555555555556,\"#d8576b\"],[0.6666666666666666,\"#ed7953\"],[0.7777777777777778,\"#fb9f3a\"],[0.8888888888888888,\"#fdca26\"],[1.0,\"#f0f921\"]]}],\"contourcarpet\":[{\"type\":\"contourcarpet\",\"colorbar\":{\"outlinewidth\":0,\"ticks\":\"\"}}],\"contour\":[{\"type\":\"contour\",\"colorbar\":{\"outlinewidth\":0,\"ticks\":\"\"},\"colorscale\":[[0.0,\"#0d0887\"],[0.1111111111111111,\"#46039f\"],[0.2222222222222222,\"#7201a8\"],[0.3333333333333333,\"#9c179e\"],[0.4444444444444444,\"#bd3786\"],[0.5555555555555556,\"#d8576b\"],[0.6666666666666666,\"#ed7953\"],[0.7777777777777778,\"#fb9f3a\"],[0.8888888888888888,\"#fdca26\"],[1.0,\"#f0f921\"]]}],\"surface\":[{\"type\":\"surface\",\"colorbar\":{\"outlinewidth\":0,\"ticks\":\"\"},\"colorscale\":[[0.0,\"#0d0887\"],[0.1111111111111111,\"#46039f\"],[0.2222222222222222,\"#7201a8\"],[0.3333333333333333,\"#9c179e\"],[0.4444444444444444,\"#bd3786\"],[0.5555555555555556,\"#d8576b\"],[0.6666666666666666,\"#ed7953\"],[0.7777777777777778,\"#fb9f3a\"],[0.8888888888888888,\"#fdca26\"],[1.0,\"#f0f921\"]]}],\"mesh3d\":[{\"type\":\"mesh3d\",\"colorbar\":{\"outlinewidth\":0,\"ticks\":\"\"}}],\"scatter\":[{\"fillpattern\":{\"fillmode\":\"overlay\",\"size\":10,\"solidity\":0.2},\"type\":\"scatter\"}],\"parcoords\":[{\"type\":\"parcoords\",\"line\":{\"colorbar\":{\"outlinewidth\":0,\"ticks\":\"\"}}}],\"scatterpolargl\":[{\"type\":\"scatterpolargl\",\"marker\":{\"colorbar\":{\"outlinewidth\":0,\"ticks\":\"\"}}}],\"bar\":[{\"error_x\":{\"color\":\"#2a3f5f\"},\"error_y\":{\"color\":\"#2a3f5f\"},\"marker\":{\"line\":{\"color\":\"#E5ECF6\",\"width\":0.5},\"pattern\":{\"fillmode\":\"overlay\",\"size\":10,\"solidity\":0.2}},\"type\":\"bar\"}],\"scattergeo\":[{\"type\":\"scattergeo\",\"marker\":{\"colorbar\":{\"outlinewidth\":0,\"ticks\":\"\"}}}],\"scatterpolar\":[{\"type\":\"scatterpolar\",\"marker\":{\"colorbar\":{\"outlinewidth\":0,\"ticks\":\"\"}}}],\"histogram\":[{\"marker\":{\"pattern\":{\"fillmode\":\"overlay\",\"size\":10,\"solidity\":0.2}},\"type\":\"histogram\"}],\"scattergl\":[{\"type\":\"scattergl\",\"marker\":{\"colorbar\":{\"outlinewidth\":0,\"ticks\":\"\"}}}],\"scatter3d\":[{\"type\":\"scatter3d\",\"line\":{\"colorbar\":{\"outlinewidth\":0,\"ticks\":\"\"}},\"marker\":{\"colorbar\":{\"outlinewidth\":0,\"ticks\":\"\"}}}],\"scattermapbox\":[{\"type\":\"scattermapbox\",\"marker\":{\"colorbar\":{\"outlinewidth\":0,\"ticks\":\"\"}}}],\"scatterternary\":[{\"type\":\"scatterternary\",\"marker\":{\"colorbar\":{\"outlinewidth\":0,\"ticks\":\"\"}}}],\"scattercarpet\":[{\"type\":\"scattercarpet\",\"marker\":{\"colorbar\":{\"outlinewidth\":0,\"ticks\":\"\"}}}],\"carpet\":[{\"aaxis\":{\"endlinecolor\":\"#2a3f5f\",\"gridcolor\":\"white\",\"linecolor\":\"white\",\"minorgridcolor\":\"white\",\"startlinecolor\":\"#2a3f5f\"},\"baxis\":{\"endlinecolor\":\"#2a3f5f\",\"gridcolor\":\"white\",\"linecolor\":\"white\",\"minorgridcolor\":\"white\",\"startlinecolor\":\"#2a3f5f\"},\"type\":\"carpet\"}],\"table\":[{\"cells\":{\"fill\":{\"color\":\"#EBF0F8\"},\"line\":{\"color\":\"white\"}},\"header\":{\"fill\":{\"color\":\"#C8D4E3\"},\"line\":{\"color\":\"white\"}},\"type\":\"table\"}],\"barpolar\":[{\"marker\":{\"line\":{\"color\":\"#E5ECF6\",\"width\":0.5},\"pattern\":{\"fillmode\":\"overlay\",\"size\":10,\"solidity\":0.2}},\"type\":\"barpolar\"}],\"pie\":[{\"automargin\":true,\"type\":\"pie\"}]},\"layout\":{\"autotypenumbers\":\"strict\",\"colorway\":[\"#636efa\",\"#EF553B\",\"#00cc96\",\"#ab63fa\",\"#FFA15A\",\"#19d3f3\",\"#FF6692\",\"#B6E880\",\"#FF97FF\",\"#FECB52\"],\"font\":{\"color\":\"#2a3f5f\"},\"hovermode\":\"closest\",\"hoverlabel\":{\"align\":\"left\"},\"paper_bgcolor\":\"white\",\"plot_bgcolor\":\"#E5ECF6\",\"polar\":{\"bgcolor\":\"#E5ECF6\",\"angularaxis\":{\"gridcolor\":\"white\",\"linecolor\":\"white\",\"ticks\":\"\"},\"radialaxis\":{\"gridcolor\":\"white\",\"linecolor\":\"white\",\"ticks\":\"\"}},\"ternary\":{\"bgcolor\":\"#E5ECF6\",\"aaxis\":{\"gridcolor\":\"white\",\"linecolor\":\"white\",\"ticks\":\"\"},\"baxis\":{\"gridcolor\":\"white\",\"linecolor\":\"white\",\"ticks\":\"\"},\"caxis\":{\"gridcolor\":\"white\",\"linecolor\":\"white\",\"ticks\":\"\"}},\"coloraxis\":{\"colorbar\":{\"outlinewidth\":0,\"ticks\":\"\"}},\"colorscale\":{\"sequential\":[[0.0,\"#0d0887\"],[0.1111111111111111,\"#46039f\"],[0.2222222222222222,\"#7201a8\"],[0.3333333333333333,\"#9c179e\"],[0.4444444444444444,\"#bd3786\"],[0.5555555555555556,\"#d8576b\"],[0.6666666666666666,\"#ed7953\"],[0.7777777777777778,\"#fb9f3a\"],[0.8888888888888888,\"#fdca26\"],[1.0,\"#f0f921\"]],\"sequentialminus\":[[0.0,\"#0d0887\"],[0.1111111111111111,\"#46039f\"],[0.2222222222222222,\"#7201a8\"],[0.3333333333333333,\"#9c179e\"],[0.4444444444444444,\"#bd3786\"],[0.5555555555555556,\"#d8576b\"],[0.6666666666666666,\"#ed7953\"],[0.7777777777777778,\"#fb9f3a\"],[0.8888888888888888,\"#fdca26\"],[1.0,\"#f0f921\"]],\"diverging\":[[0,\"#8e0152\"],[0.1,\"#c51b7d\"],[0.2,\"#de77ae\"],[0.3,\"#f1b6da\"],[0.4,\"#fde0ef\"],[0.5,\"#f7f7f7\"],[0.6,\"#e6f5d0\"],[0.7,\"#b8e186\"],[0.8,\"#7fbc41\"],[0.9,\"#4d9221\"],[1,\"#276419\"]]},\"xaxis\":{\"gridcolor\":\"white\",\"linecolor\":\"white\",\"ticks\":\"\",\"title\":{\"standoff\":15},\"zerolinecolor\":\"white\",\"automargin\":true,\"zerolinewidth\":2},\"yaxis\":{\"gridcolor\":\"white\",\"linecolor\":\"white\",\"ticks\":\"\",\"title\":{\"standoff\":15},\"zerolinecolor\":\"white\",\"automargin\":true,\"zerolinewidth\":2},\"scene\":{\"xaxis\":{\"backgroundcolor\":\"#E5ECF6\",\"gridcolor\":\"white\",\"linecolor\":\"white\",\"showbackground\":true,\"ticks\":\"\",\"zerolinecolor\":\"white\",\"gridwidth\":2},\"yaxis\":{\"backgroundcolor\":\"#E5ECF6\",\"gridcolor\":\"white\",\"linecolor\":\"white\",\"showbackground\":true,\"ticks\":\"\",\"zerolinecolor\":\"white\",\"gridwidth\":2},\"zaxis\":{\"backgroundcolor\":\"#E5ECF6\",\"gridcolor\":\"white\",\"linecolor\":\"white\",\"showbackground\":true,\"ticks\":\"\",\"zerolinecolor\":\"white\",\"gridwidth\":2}},\"shapedefaults\":{\"line\":{\"color\":\"#2a3f5f\"}},\"annotationdefaults\":{\"arrowcolor\":\"#2a3f5f\",\"arrowhead\":0,\"arrowwidth\":1},\"geo\":{\"bgcolor\":\"white\",\"landcolor\":\"#E5ECF6\",\"subunitcolor\":\"white\",\"showland\":true,\"showlakes\":true,\"lakecolor\":\"white\"},\"title\":{\"x\":0.05},\"mapbox\":{\"style\":\"light\"}}},\"title\":{\"text\":\"Scatter Plot: Total Spend vs. Items Purchased\"},\"xaxis\":{\"title\":{\"text\":\"Total Spend\"}},\"yaxis\":{\"title\":{\"text\":\"Items Purchased\"}}},                        {\"responsive\": true}                    ).then(function(){\n",
       "                            \n",
       "var gd = document.getElementById('8a0e305c-adcc-4ef4-9a48-d9a77833061d');\n",
       "var x = new MutationObserver(function (mutations, observer) {{\n",
       "        var display = window.getComputedStyle(gd).display;\n",
       "        if (!display || display === 'none') {{\n",
       "            console.log([gd, 'removed!']);\n",
       "            Plotly.purge(gd);\n",
       "            observer.disconnect();\n",
       "        }}\n",
       "}});\n",
       "\n",
       "// Listen for the removal of the full notebook cells\n",
       "var notebookContainer = gd.closest('#notebook-container');\n",
       "if (notebookContainer) {{\n",
       "    x.observe(notebookContainer, {childList: true});\n",
       "}}\n",
       "\n",
       "// Listen for the clearing of the current output cell\n",
       "var outputEl = gd.closest('.output');\n",
       "if (outputEl) {{\n",
       "    x.observe(outputEl, {childList: true});\n",
       "}}\n",
       "\n",
       "                        })                };                });            </script>        </div>"
      ]
     },
     "metadata": {},
     "output_type": "display_data"
    }
   ],
   "source": [
    "fig = go.Figure()\n",
    "\n",
    "fig.add_trace(go.Scatter(x=df['Total Spend'], y=df['Items Purchased'],\n",
    "                         mode='markers',\n",
    "                         marker=dict(color='blue'),\n",
    "                         text=df.index))  # Use index as hover text\n",
    "\n",
    "fig.update_layout(title='Scatter Plot: Total Spend vs. Items Purchased',\n",
    "                  xaxis=dict(title='Total Spend'),\n",
    "                  yaxis=dict(title='Items Purchased'))\n",
    "\n",
    "fig.show()"
   ]
  },
  {
   "cell_type": "code",
   "execution_count": 21,
   "id": "65fa8957",
   "metadata": {},
   "outputs": [
    {
     "data": {
      "application/vnd.plotly.v1+json": {
       "config": {
        "plotlyServerURL": "https://plot.ly"
       },
       "data": [
        {
         "customdata": [
          [
           "Satisfied"
          ],
          [
           "Satisfied"
          ],
          [
           "Satisfied"
          ],
          [
           "Satisfied"
          ],
          [
           "Satisfied"
          ],
          [
           "Satisfied"
          ],
          [
           "Satisfied"
          ],
          [
           "Satisfied"
          ],
          [
           "Satisfied"
          ],
          [
           "Satisfied"
          ],
          [
           "Satisfied"
          ],
          [
           "Satisfied"
          ],
          [
           "Satisfied"
          ],
          [
           "Satisfied"
          ],
          [
           "Satisfied"
          ],
          [
           "Satisfied"
          ],
          [
           "Satisfied"
          ],
          [
           "Satisfied"
          ],
          [
           "Satisfied"
          ],
          [
           "Satisfied"
          ],
          [
           "Satisfied"
          ],
          [
           "Satisfied"
          ],
          [
           "Satisfied"
          ],
          [
           "Satisfied"
          ],
          [
           "Satisfied"
          ],
          [
           "Satisfied"
          ],
          [
           "Satisfied"
          ],
          [
           "Satisfied"
          ],
          [
           "Satisfied"
          ],
          [
           "Satisfied"
          ],
          [
           "Satisfied"
          ],
          [
           "Satisfied"
          ],
          [
           "Satisfied"
          ],
          [
           "Satisfied"
          ],
          [
           "Satisfied"
          ],
          [
           "Satisfied"
          ],
          [
           "Satisfied"
          ],
          [
           "Satisfied"
          ],
          [
           "Satisfied"
          ],
          [
           "Satisfied"
          ],
          [
           "Satisfied"
          ],
          [
           "Satisfied"
          ],
          [
           "Satisfied"
          ],
          [
           "Satisfied"
          ],
          [
           "Satisfied"
          ],
          [
           "Satisfied"
          ],
          [
           "Satisfied"
          ],
          [
           "Satisfied"
          ],
          [
           "Satisfied"
          ],
          [
           "Satisfied"
          ],
          [
           "Satisfied"
          ],
          [
           "Satisfied"
          ],
          [
           "Satisfied"
          ],
          [
           "Satisfied"
          ],
          [
           "Satisfied"
          ],
          [
           "Satisfied"
          ],
          [
           "Satisfied"
          ],
          [
           "Satisfied"
          ],
          [
           "Satisfied"
          ],
          [
           "Satisfied"
          ],
          [
           "Satisfied"
          ],
          [
           "Satisfied"
          ],
          [
           "Satisfied"
          ],
          [
           "Satisfied"
          ],
          [
           "Satisfied"
          ],
          [
           "Satisfied"
          ],
          [
           "Satisfied"
          ],
          [
           "Satisfied"
          ],
          [
           "Satisfied"
          ],
          [
           "Satisfied"
          ],
          [
           "Satisfied"
          ],
          [
           "Satisfied"
          ],
          [
           "Satisfied"
          ],
          [
           "Satisfied"
          ],
          [
           "Satisfied"
          ],
          [
           "Satisfied"
          ],
          [
           "Satisfied"
          ],
          [
           "Satisfied"
          ],
          [
           "Satisfied"
          ],
          [
           "Satisfied"
          ],
          [
           "Satisfied"
          ],
          [
           "Satisfied"
          ],
          [
           "Satisfied"
          ],
          [
           "Satisfied"
          ],
          [
           "Satisfied"
          ],
          [
           "Satisfied"
          ],
          [
           "Satisfied"
          ],
          [
           "Satisfied"
          ],
          [
           "Satisfied"
          ],
          [
           "Satisfied"
          ],
          [
           "Satisfied"
          ],
          [
           "Satisfied"
          ],
          [
           "Satisfied"
          ],
          [
           "Satisfied"
          ],
          [
           "Satisfied"
          ],
          [
           "Satisfied"
          ],
          [
           "Satisfied"
          ],
          [
           "Satisfied"
          ],
          [
           "Satisfied"
          ],
          [
           "Satisfied"
          ],
          [
           "Satisfied"
          ],
          [
           "Satisfied"
          ],
          [
           "Satisfied"
          ],
          [
           "Satisfied"
          ],
          [
           "Satisfied"
          ],
          [
           "Satisfied"
          ],
          [
           "Satisfied"
          ],
          [
           "Satisfied"
          ],
          [
           "Satisfied"
          ],
          [
           "Satisfied"
          ],
          [
           "Satisfied"
          ],
          [
           "Satisfied"
          ],
          [
           "Satisfied"
          ],
          [
           "Satisfied"
          ],
          [
           "Satisfied"
          ],
          [
           "Satisfied"
          ],
          [
           "Satisfied"
          ],
          [
           "Satisfied"
          ],
          [
           "Satisfied"
          ],
          [
           "Satisfied"
          ],
          [
           "Satisfied"
          ],
          [
           "Satisfied"
          ],
          [
           "Satisfied"
          ],
          [
           "Satisfied"
          ],
          [
           "Satisfied"
          ]
         ],
         "hovertemplate": "Satisfaction Level=%{customdata[0]}<br>Total Spend=%{x}<br>Items Purchased=%{y}<extra></extra>",
         "legendgroup": "Satisfied",
         "marker": {
          "color": "#636efa",
          "symbol": "circle"
         },
         "mode": "markers",
         "name": "Satisfied",
         "orientation": "v",
         "showlegend": true,
         "type": "scatter",
         "x": [
          1120.2,
          1480.3,
          1150.6,
          1520.1,
          1200.8,
          820.75,
          1360.2,
          1170.3,
          1470.5,
          1140.6,
          1500.1,
          1190.8,
          830.75,
          1370.2,
          1160.3,
          1460.5,
          1130.6,
          1490.1,
          1180.8,
          1470.5,
          1140.6,
          1500.1,
          1190.8,
          830.75,
          1370.2,
          1160.3,
          1460.5,
          1130.6,
          1490.1,
          1180.8,
          1470.5,
          1140.6,
          1500.1,
          1190.8,
          830.75,
          1370.2,
          1160.3,
          1460.5,
          1130.6,
          1490.1,
          1180.8,
          1470.5,
          1140.6,
          1500.1,
          1190.8,
          830.75,
          1370.2,
          1160.3,
          1460.5,
          1130.6,
          1490.1,
          1180.8,
          1470.5,
          1130.6,
          1490.1,
          1180.8,
          1470.5,
          1140.6,
          1500.1,
          1190.8,
          830.75,
          1370.2,
          1160.3,
          1460.5,
          1140.6,
          1490.1,
          1180.8,
          1470.5,
          1130.6,
          1500.1,
          1190.8,
          830.75,
          1370.2,
          1160.3,
          1420.8,
          1210.6,
          1390.2,
          1170.3,
          1450.5,
          1130.6,
          1490.1,
          1180.8,
          1470.5,
          1140.6,
          1500.1,
          1190.8,
          830.75,
          1370.2,
          1160.3,
          1460.5,
          1150.6,
          1480.1,
          1170.8,
          1440.5,
          1160.6,
          1490.1,
          1200.8,
          1460.5,
          1140.6,
          1480.1,
          1190.8,
          1450.5,
          1160.6,
          1490.1,
          1200.8,
          1460.5,
          1140.6,
          1480.1,
          1190.8,
          1450.5,
          1160.6,
          1490.1,
          1200.8,
          1460.5,
          1140.6,
          1480.1,
          1190.8,
          1450.5,
          1160.6,
          1490.1,
          1200.8,
          1460.5,
          1140.6,
          1480.1,
          1190.8
         ],
         "xaxis": "x",
         "y": [
          14,
          19,
          15,
          21,
          16,
          13,
          18,
          14,
          20,
          15,
          21,
          16,
          13,
          18,
          14,
          20,
          15,
          21,
          16,
          20,
          15,
          21,
          16,
          13,
          18,
          14,
          20,
          15,
          21,
          16,
          20,
          15,
          21,
          16,
          13,
          18,
          14,
          20,
          15,
          21,
          16,
          20,
          15,
          21,
          16,
          13,
          18,
          14,
          20,
          15,
          21,
          16,
          20,
          15,
          21,
          16,
          20,
          15,
          21,
          16,
          13,
          18,
          14,
          20,
          15,
          21,
          16,
          20,
          15,
          21,
          16,
          13,
          18,
          14,
          19,
          17,
          18,
          14,
          20,
          15,
          21,
          16,
          20,
          15,
          21,
          16,
          13,
          18,
          14,
          20,
          15,
          21,
          16,
          19,
          15,
          21,
          16,
          20,
          15,
          21,
          16,
          19,
          15,
          21,
          16,
          20,
          15,
          21,
          16,
          19,
          15,
          21,
          16,
          20,
          15,
          21,
          16,
          19,
          15,
          21,
          16,
          20,
          15,
          21,
          16
         ],
         "yaxis": "y"
        },
        {
         "customdata": [
          [
           "Neutral"
          ],
          [
           "Neutral"
          ],
          [
           "Neutral"
          ],
          [
           "Neutral"
          ],
          [
           "Neutral"
          ],
          [
           "Neutral"
          ],
          [
           "Neutral"
          ],
          [
           "Neutral"
          ],
          [
           "Neutral"
          ],
          [
           "Neutral"
          ],
          [
           "Neutral"
          ],
          [
           "Neutral"
          ],
          [
           "Neutral"
          ],
          [
           "Neutral"
          ],
          [
           "Neutral"
          ],
          [
           "Neutral"
          ],
          [
           "Neutral"
          ],
          [
           "Neutral"
          ],
          [
           "Neutral"
          ],
          [
           "Neutral"
          ],
          [
           "Neutral"
          ],
          [
           "Neutral"
          ],
          [
           "Neutral"
          ],
          [
           "Neutral"
          ],
          [
           "Neutral"
          ],
          [
           "Neutral"
          ],
          [
           "Neutral"
          ],
          [
           "Neutral"
          ],
          [
           "Neutral"
          ],
          [
           "Neutral"
          ],
          [
           "Neutral"
          ],
          [
           "Neutral"
          ],
          [
           "Neutral"
          ],
          [
           "Neutral"
          ],
          [
           "Neutral"
          ],
          [
           "Neutral"
          ],
          [
           "Neutral"
          ],
          [
           "Neutral"
          ],
          [
           "Neutral"
          ],
          [
           "Neutral"
          ],
          [
           "Neutral"
          ],
          [
           "Neutral"
          ],
          [
           "Neutral"
          ],
          [
           "Neutral"
          ],
          [
           "Neutral"
          ],
          [
           "Neutral"
          ],
          [
           "Neutral"
          ],
          [
           "Neutral"
          ],
          [
           "Neutral"
          ],
          [
           "Neutral"
          ],
          [
           "Neutral"
          ],
          [
           "Neutral"
          ],
          [
           "Neutral"
          ],
          [
           "Neutral"
          ],
          [
           "Neutral"
          ],
          [
           "Neutral"
          ],
          [
           "Neutral"
          ],
          [
           "Neutral"
          ],
          [
           "Neutral"
          ],
          [
           "Neutral"
          ],
          [
           "Neutral"
          ],
          [
           "Neutral"
          ],
          [
           "Neutral"
          ],
          [
           "Neutral"
          ],
          [
           "Neutral"
          ],
          [
           "Neutral"
          ],
          [
           "Neutral"
          ],
          [
           "Neutral"
          ],
          [
           "Neutral"
          ],
          [
           "Neutral"
          ],
          [
           "Neutral"
          ],
          [
           "Neutral"
          ],
          [
           "Neutral"
          ],
          [
           "Neutral"
          ],
          [
           "Neutral"
          ],
          [
           "Neutral"
          ],
          [
           "Neutral"
          ],
          [
           "Neutral"
          ],
          [
           "Neutral"
          ],
          [
           "Neutral"
          ],
          [
           "Neutral"
          ],
          [
           "Neutral"
          ],
          [
           "Neutral"
          ],
          [
           "Neutral"
          ],
          [
           "Neutral"
          ],
          [
           "Neutral"
          ],
          [
           "Neutral"
          ],
          [
           "Neutral"
          ],
          [
           "Neutral"
          ],
          [
           "Neutral"
          ],
          [
           "Neutral"
          ],
          [
           "Neutral"
          ],
          [
           "Neutral"
          ],
          [
           "Neutral"
          ],
          [
           "Neutral"
          ],
          [
           "Neutral"
          ],
          [
           "Neutral"
          ],
          [
           "Neutral"
          ],
          [
           "Neutral"
          ],
          [
           "Neutral"
          ],
          [
           "Neutral"
          ],
          [
           "Neutral"
          ],
          [
           "Neutral"
          ],
          [
           "Neutral"
          ],
          [
           "Neutral"
          ],
          [
           "Neutral"
          ],
          [
           "Neutral"
          ]
         ],
         "hovertemplate": "Satisfaction Level=%{customdata[0]}<br>Total Spend=%{x}<br>Items Purchased=%{y}<extra></extra>",
         "legendgroup": "Neutral",
         "marker": {
          "color": "#EF553B",
          "symbol": "circle"
         },
         "mode": "markers",
         "name": "Neutral",
         "orientation": "v",
         "showlegend": true,
         "type": "scatter",
         "x": [
          780.5,
          440.8,
          800.9,
          470.5,
          450.9,
          790.2,
          430.8,
          810.9,
          460.5,
          440.9,
          800.2,
          420.8,
          820.9,
          470.5,
          790.2,
          430.8,
          810.9,
          460.5,
          440.9,
          800.2,
          820.9,
          470.5,
          790.2,
          430.8,
          810.9,
          460.5,
          440.9,
          800.2,
          420.8,
          820.9,
          470.5,
          790.2,
          430.8,
          810.9,
          460.5,
          440.9,
          800.2,
          420.8,
          820.9,
          470.5,
          790.2,
          820.9,
          470.5,
          790.2,
          430.8,
          810.9,
          460.5,
          440.9,
          800.2,
          430.8,
          820.9,
          470.5,
          790.2,
          430.8,
          820.9,
          460.5,
          440.9,
          800.2,
          450.6,
          780.9,
          460.9,
          810.2,
          420.8,
          820.9,
          470.5,
          790.2,
          430.8,
          820.9,
          460.5,
          440.9,
          800.2,
          440.8,
          830.9,
          480.5,
          790.2,
          410.8,
          810.9,
          430.5,
          780.2,
          450.8,
          800.9,
          470.5,
          770.2,
          430.8,
          820.9,
          440.5,
          780.2,
          450.8,
          800.9,
          470.5,
          800.2,
          430.8,
          820.9,
          440.5,
          780.2,
          450.8,
          800.9,
          470.5,
          780.2,
          430.8,
          820.9,
          440.5,
          780.2,
          450.8,
          800.9,
          470.5,
          780.2
         ],
         "xaxis": "x",
         "y": [
          11,
          8,
          12,
          7,
          8,
          11,
          7,
          12,
          8,
          8,
          11,
          7,
          12,
          8,
          11,
          7,
          12,
          8,
          8,
          11,
          12,
          8,
          11,
          7,
          12,
          8,
          8,
          11,
          7,
          12,
          8,
          11,
          7,
          12,
          8,
          8,
          11,
          7,
          12,
          8,
          11,
          12,
          8,
          11,
          7,
          12,
          8,
          8,
          11,
          7,
          12,
          8,
          11,
          7,
          12,
          8,
          8,
          11,
          7,
          11,
          8,
          11,
          7,
          12,
          8,
          11,
          7,
          12,
          8,
          8,
          11,
          7,
          12,
          8,
          11,
          7,
          12,
          8,
          11,
          7,
          12,
          8,
          11,
          7,
          12,
          8,
          11,
          7,
          12,
          8,
          11,
          7,
          12,
          8,
          11,
          7,
          12,
          8,
          11,
          7,
          12,
          8,
          11,
          7,
          12,
          8,
          11
         ],
         "yaxis": "y"
        },
        {
         "customdata": [
          [
           "Unsatisfied"
          ],
          [
           "Unsatisfied"
          ],
          [
           "Unsatisfied"
          ],
          [
           "Unsatisfied"
          ],
          [
           "Unsatisfied"
          ],
          [
           "Unsatisfied"
          ],
          [
           "Unsatisfied"
          ],
          [
           "Unsatisfied"
          ],
          [
           "Unsatisfied"
          ],
          [
           "Unsatisfied"
          ],
          [
           "Unsatisfied"
          ],
          [
           "Unsatisfied"
          ],
          [
           "Unsatisfied"
          ],
          [
           "Unsatisfied"
          ],
          [
           "Unsatisfied"
          ],
          [
           "Unsatisfied"
          ],
          [
           "Unsatisfied"
          ],
          [
           "Unsatisfied"
          ],
          [
           "Unsatisfied"
          ],
          [
           "Unsatisfied"
          ],
          [
           "Unsatisfied"
          ],
          [
           "Unsatisfied"
          ],
          [
           "Unsatisfied"
          ],
          [
           "Unsatisfied"
          ],
          [
           "Unsatisfied"
          ],
          [
           "Unsatisfied"
          ],
          [
           "Unsatisfied"
          ],
          [
           "Unsatisfied"
          ],
          [
           "Unsatisfied"
          ],
          [
           "Unsatisfied"
          ],
          [
           "Unsatisfied"
          ],
          [
           "Unsatisfied"
          ],
          [
           "Unsatisfied"
          ],
          [
           "Unsatisfied"
          ],
          [
           "Unsatisfied"
          ],
          [
           "Unsatisfied"
          ],
          [
           "Unsatisfied"
          ],
          [
           "Unsatisfied"
          ],
          [
           "Unsatisfied"
          ],
          [
           "Unsatisfied"
          ],
          [
           "Unsatisfied"
          ],
          [
           "Unsatisfied"
          ],
          [
           "Unsatisfied"
          ],
          [
           "Unsatisfied"
          ],
          [
           "Unsatisfied"
          ],
          [
           "Unsatisfied"
          ],
          [
           "Unsatisfied"
          ],
          [
           "Unsatisfied"
          ],
          [
           "Unsatisfied"
          ],
          [
           "Unsatisfied"
          ],
          [
           "Unsatisfied"
          ],
          [
           "Unsatisfied"
          ],
          [
           "Unsatisfied"
          ],
          [
           "Unsatisfied"
          ],
          [
           "Unsatisfied"
          ],
          [
           "Unsatisfied"
          ],
          [
           "Unsatisfied"
          ],
          [
           "Unsatisfied"
          ],
          [
           "Unsatisfied"
          ],
          [
           "Unsatisfied"
          ],
          [
           "Unsatisfied"
          ],
          [
           "Unsatisfied"
          ],
          [
           "Unsatisfied"
          ],
          [
           "Unsatisfied"
          ],
          [
           "Unsatisfied"
          ],
          [
           "Unsatisfied"
          ],
          [
           "Unsatisfied"
          ],
          [
           "Unsatisfied"
          ],
          [
           "Unsatisfied"
          ],
          [
           "Unsatisfied"
          ],
          [
           "Unsatisfied"
          ],
          [
           "Unsatisfied"
          ],
          [
           "Unsatisfied"
          ],
          [
           "Unsatisfied"
          ],
          [
           "Unsatisfied"
          ],
          [
           "Unsatisfied"
          ],
          [
           "Unsatisfied"
          ],
          [
           "Unsatisfied"
          ],
          [
           "Unsatisfied"
          ],
          [
           "Unsatisfied"
          ],
          [
           "Unsatisfied"
          ],
          [
           "Unsatisfied"
          ],
          [
           "Unsatisfied"
          ],
          [
           "Unsatisfied"
          ],
          [
           "Unsatisfied"
          ],
          [
           "Unsatisfied"
          ],
          [
           "Unsatisfied"
          ],
          [
           "Unsatisfied"
          ],
          [
           "Unsatisfied"
          ],
          [
           "Unsatisfied"
          ],
          [
           "Unsatisfied"
          ],
          [
           "Unsatisfied"
          ],
          [
           "Unsatisfied"
          ],
          [
           "Unsatisfied"
          ],
          [
           "Unsatisfied"
          ],
          [
           "Unsatisfied"
          ],
          [
           "Unsatisfied"
          ],
          [
           "Unsatisfied"
          ],
          [
           "Unsatisfied"
          ],
          [
           "Unsatisfied"
          ],
          [
           "Unsatisfied"
          ],
          [
           "Unsatisfied"
          ],
          [
           "Unsatisfied"
          ],
          [
           "Unsatisfied"
          ],
          [
           "Unsatisfied"
          ],
          [
           "Unsatisfied"
          ],
          [
           "Unsatisfied"
          ],
          [
           "Unsatisfied"
          ],
          [
           "Unsatisfied"
          ],
          [
           "Unsatisfied"
          ],
          [
           "Unsatisfied"
          ],
          [
           "Unsatisfied"
          ],
          [
           "Unsatisfied"
          ],
          [
           "Unsatisfied"
          ],
          [
           "Unsatisfied"
          ],
          [
           "Unsatisfied"
          ]
         ],
         "hovertemplate": "Satisfaction Level=%{customdata[0]}<br>Total Spend=%{x}<br>Items Purchased=%{y}<extra></extra>",
         "legendgroup": "Unsatisfied",
         "marker": {
          "color": "#00cc96",
          "symbol": "circle"
         },
         "mode": "markers",
         "name": "Unsatisfied",
         "orientation": "v",
         "showlegend": true,
         "type": "scatter",
         "x": [
          510.75,
          720.4,
          495.25,
          690.3,
          530.4,
          700.6,
          505.75,
          710.4,
          485.25,
          670.3,
          520.4,
          690.6,
          500.75,
          700.4,
          480.25,
          680.3,
          505.75,
          710.4,
          485.25,
          670.3,
          520.4,
          690.6,
          500.75,
          700.4,
          480.25,
          680.3,
          505.75,
          710.4,
          485.25,
          670.3,
          520.4,
          690.6,
          500.75,
          700.4,
          480.25,
          680.3,
          505.75,
          710.4,
          485.25,
          670.3,
          520.4,
          690.6,
          500.75,
          700.4,
          480.25,
          680.3,
          505.75,
          710.4,
          480.25,
          680.3,
          505.75,
          710.4,
          485.25,
          670.3,
          520.4,
          690.6,
          500.75,
          700.4,
          480.25,
          680.3,
          505.75,
          710.4,
          485.25,
          670.3,
          520.4,
          690.6,
          730.4,
          495.25,
          670.6,
          515.75,
          690.4,
          480.25,
          680.3,
          505.75,
          710.4,
          485.25,
          670.3,
          520.4,
          690.6,
          525.75,
          720.4,
          490.25,
          690.3,
          510.75,
          700.4,
          495.25,
          660.3,
          505.75,
          710.4,
          475.25,
          660.3,
          515.75,
          710.4,
          495.25,
          660.3,
          505.75,
          710.4,
          475.25,
          660.3,
          515.75,
          710.4,
          495.25,
          660.3,
          505.75,
          710.4,
          475.25,
          660.3,
          515.75,
          710.4,
          495.25,
          660.3,
          505.75,
          710.4,
          475.25,
          660.3,
          515.75
         ],
         "xaxis": "x",
         "y": [
          9,
          13,
          10,
          11,
          9,
          12,
          10,
          13,
          9,
          10,
          9,
          12,
          10,
          13,
          9,
          10,
          10,
          13,
          9,
          10,
          9,
          12,
          10,
          13,
          9,
          10,
          10,
          13,
          9,
          10,
          9,
          12,
          10,
          13,
          9,
          10,
          10,
          13,
          9,
          10,
          9,
          12,
          10,
          13,
          9,
          10,
          10,
          13,
          9,
          10,
          10,
          13,
          9,
          10,
          9,
          12,
          10,
          13,
          9,
          10,
          10,
          13,
          9,
          10,
          9,
          12,
          14,
          10,
          12,
          9,
          13,
          9,
          10,
          10,
          13,
          9,
          10,
          9,
          12,
          9,
          13,
          9,
          10,
          10,
          13,
          9,
          10,
          10,
          13,
          9,
          10,
          10,
          13,
          9,
          10,
          10,
          13,
          9,
          10,
          10,
          13,
          9,
          10,
          10,
          13,
          9,
          10,
          10,
          13,
          9,
          10,
          10,
          13,
          9,
          10,
          10
         ],
         "yaxis": "y"
        }
       ],
       "layout": {
        "legend": {
         "title": {
          "text": "Satisfaction Level"
         },
         "tracegroupgap": 0
        },
        "margin": {
         "t": 60
        },
        "template": {
         "data": {
          "bar": [
           {
            "error_x": {
             "color": "#2a3f5f"
            },
            "error_y": {
             "color": "#2a3f5f"
            },
            "marker": {
             "line": {
              "color": "#E5ECF6",
              "width": 0.5
             },
             "pattern": {
              "fillmode": "overlay",
              "size": 10,
              "solidity": 0.2
             }
            },
            "type": "bar"
           }
          ],
          "barpolar": [
           {
            "marker": {
             "line": {
              "color": "#E5ECF6",
              "width": 0.5
             },
             "pattern": {
              "fillmode": "overlay",
              "size": 10,
              "solidity": 0.2
             }
            },
            "type": "barpolar"
           }
          ],
          "carpet": [
           {
            "aaxis": {
             "endlinecolor": "#2a3f5f",
             "gridcolor": "white",
             "linecolor": "white",
             "minorgridcolor": "white",
             "startlinecolor": "#2a3f5f"
            },
            "baxis": {
             "endlinecolor": "#2a3f5f",
             "gridcolor": "white",
             "linecolor": "white",
             "minorgridcolor": "white",
             "startlinecolor": "#2a3f5f"
            },
            "type": "carpet"
           }
          ],
          "choropleth": [
           {
            "colorbar": {
             "outlinewidth": 0,
             "ticks": ""
            },
            "type": "choropleth"
           }
          ],
          "contour": [
           {
            "colorbar": {
             "outlinewidth": 0,
             "ticks": ""
            },
            "colorscale": [
             [
              0,
              "#0d0887"
             ],
             [
              0.1111111111111111,
              "#46039f"
             ],
             [
              0.2222222222222222,
              "#7201a8"
             ],
             [
              0.3333333333333333,
              "#9c179e"
             ],
             [
              0.4444444444444444,
              "#bd3786"
             ],
             [
              0.5555555555555556,
              "#d8576b"
             ],
             [
              0.6666666666666666,
              "#ed7953"
             ],
             [
              0.7777777777777778,
              "#fb9f3a"
             ],
             [
              0.8888888888888888,
              "#fdca26"
             ],
             [
              1,
              "#f0f921"
             ]
            ],
            "type": "contour"
           }
          ],
          "contourcarpet": [
           {
            "colorbar": {
             "outlinewidth": 0,
             "ticks": ""
            },
            "type": "contourcarpet"
           }
          ],
          "heatmap": [
           {
            "colorbar": {
             "outlinewidth": 0,
             "ticks": ""
            },
            "colorscale": [
             [
              0,
              "#0d0887"
             ],
             [
              0.1111111111111111,
              "#46039f"
             ],
             [
              0.2222222222222222,
              "#7201a8"
             ],
             [
              0.3333333333333333,
              "#9c179e"
             ],
             [
              0.4444444444444444,
              "#bd3786"
             ],
             [
              0.5555555555555556,
              "#d8576b"
             ],
             [
              0.6666666666666666,
              "#ed7953"
             ],
             [
              0.7777777777777778,
              "#fb9f3a"
             ],
             [
              0.8888888888888888,
              "#fdca26"
             ],
             [
              1,
              "#f0f921"
             ]
            ],
            "type": "heatmap"
           }
          ],
          "heatmapgl": [
           {
            "colorbar": {
             "outlinewidth": 0,
             "ticks": ""
            },
            "colorscale": [
             [
              0,
              "#0d0887"
             ],
             [
              0.1111111111111111,
              "#46039f"
             ],
             [
              0.2222222222222222,
              "#7201a8"
             ],
             [
              0.3333333333333333,
              "#9c179e"
             ],
             [
              0.4444444444444444,
              "#bd3786"
             ],
             [
              0.5555555555555556,
              "#d8576b"
             ],
             [
              0.6666666666666666,
              "#ed7953"
             ],
             [
              0.7777777777777778,
              "#fb9f3a"
             ],
             [
              0.8888888888888888,
              "#fdca26"
             ],
             [
              1,
              "#f0f921"
             ]
            ],
            "type": "heatmapgl"
           }
          ],
          "histogram": [
           {
            "marker": {
             "pattern": {
              "fillmode": "overlay",
              "size": 10,
              "solidity": 0.2
             }
            },
            "type": "histogram"
           }
          ],
          "histogram2d": [
           {
            "colorbar": {
             "outlinewidth": 0,
             "ticks": ""
            },
            "colorscale": [
             [
              0,
              "#0d0887"
             ],
             [
              0.1111111111111111,
              "#46039f"
             ],
             [
              0.2222222222222222,
              "#7201a8"
             ],
             [
              0.3333333333333333,
              "#9c179e"
             ],
             [
              0.4444444444444444,
              "#bd3786"
             ],
             [
              0.5555555555555556,
              "#d8576b"
             ],
             [
              0.6666666666666666,
              "#ed7953"
             ],
             [
              0.7777777777777778,
              "#fb9f3a"
             ],
             [
              0.8888888888888888,
              "#fdca26"
             ],
             [
              1,
              "#f0f921"
             ]
            ],
            "type": "histogram2d"
           }
          ],
          "histogram2dcontour": [
           {
            "colorbar": {
             "outlinewidth": 0,
             "ticks": ""
            },
            "colorscale": [
             [
              0,
              "#0d0887"
             ],
             [
              0.1111111111111111,
              "#46039f"
             ],
             [
              0.2222222222222222,
              "#7201a8"
             ],
             [
              0.3333333333333333,
              "#9c179e"
             ],
             [
              0.4444444444444444,
              "#bd3786"
             ],
             [
              0.5555555555555556,
              "#d8576b"
             ],
             [
              0.6666666666666666,
              "#ed7953"
             ],
             [
              0.7777777777777778,
              "#fb9f3a"
             ],
             [
              0.8888888888888888,
              "#fdca26"
             ],
             [
              1,
              "#f0f921"
             ]
            ],
            "type": "histogram2dcontour"
           }
          ],
          "mesh3d": [
           {
            "colorbar": {
             "outlinewidth": 0,
             "ticks": ""
            },
            "type": "mesh3d"
           }
          ],
          "parcoords": [
           {
            "line": {
             "colorbar": {
              "outlinewidth": 0,
              "ticks": ""
             }
            },
            "type": "parcoords"
           }
          ],
          "pie": [
           {
            "automargin": true,
            "type": "pie"
           }
          ],
          "scatter": [
           {
            "fillpattern": {
             "fillmode": "overlay",
             "size": 10,
             "solidity": 0.2
            },
            "type": "scatter"
           }
          ],
          "scatter3d": [
           {
            "line": {
             "colorbar": {
              "outlinewidth": 0,
              "ticks": ""
             }
            },
            "marker": {
             "colorbar": {
              "outlinewidth": 0,
              "ticks": ""
             }
            },
            "type": "scatter3d"
           }
          ],
          "scattercarpet": [
           {
            "marker": {
             "colorbar": {
              "outlinewidth": 0,
              "ticks": ""
             }
            },
            "type": "scattercarpet"
           }
          ],
          "scattergeo": [
           {
            "marker": {
             "colorbar": {
              "outlinewidth": 0,
              "ticks": ""
             }
            },
            "type": "scattergeo"
           }
          ],
          "scattergl": [
           {
            "marker": {
             "colorbar": {
              "outlinewidth": 0,
              "ticks": ""
             }
            },
            "type": "scattergl"
           }
          ],
          "scattermapbox": [
           {
            "marker": {
             "colorbar": {
              "outlinewidth": 0,
              "ticks": ""
             }
            },
            "type": "scattermapbox"
           }
          ],
          "scatterpolar": [
           {
            "marker": {
             "colorbar": {
              "outlinewidth": 0,
              "ticks": ""
             }
            },
            "type": "scatterpolar"
           }
          ],
          "scatterpolargl": [
           {
            "marker": {
             "colorbar": {
              "outlinewidth": 0,
              "ticks": ""
             }
            },
            "type": "scatterpolargl"
           }
          ],
          "scatterternary": [
           {
            "marker": {
             "colorbar": {
              "outlinewidth": 0,
              "ticks": ""
             }
            },
            "type": "scatterternary"
           }
          ],
          "surface": [
           {
            "colorbar": {
             "outlinewidth": 0,
             "ticks": ""
            },
            "colorscale": [
             [
              0,
              "#0d0887"
             ],
             [
              0.1111111111111111,
              "#46039f"
             ],
             [
              0.2222222222222222,
              "#7201a8"
             ],
             [
              0.3333333333333333,
              "#9c179e"
             ],
             [
              0.4444444444444444,
              "#bd3786"
             ],
             [
              0.5555555555555556,
              "#d8576b"
             ],
             [
              0.6666666666666666,
              "#ed7953"
             ],
             [
              0.7777777777777778,
              "#fb9f3a"
             ],
             [
              0.8888888888888888,
              "#fdca26"
             ],
             [
              1,
              "#f0f921"
             ]
            ],
            "type": "surface"
           }
          ],
          "table": [
           {
            "cells": {
             "fill": {
              "color": "#EBF0F8"
             },
             "line": {
              "color": "white"
             }
            },
            "header": {
             "fill": {
              "color": "#C8D4E3"
             },
             "line": {
              "color": "white"
             }
            },
            "type": "table"
           }
          ]
         },
         "layout": {
          "annotationdefaults": {
           "arrowcolor": "#2a3f5f",
           "arrowhead": 0,
           "arrowwidth": 1
          },
          "autotypenumbers": "strict",
          "coloraxis": {
           "colorbar": {
            "outlinewidth": 0,
            "ticks": ""
           }
          },
          "colorscale": {
           "diverging": [
            [
             0,
             "#8e0152"
            ],
            [
             0.1,
             "#c51b7d"
            ],
            [
             0.2,
             "#de77ae"
            ],
            [
             0.3,
             "#f1b6da"
            ],
            [
             0.4,
             "#fde0ef"
            ],
            [
             0.5,
             "#f7f7f7"
            ],
            [
             0.6,
             "#e6f5d0"
            ],
            [
             0.7,
             "#b8e186"
            ],
            [
             0.8,
             "#7fbc41"
            ],
            [
             0.9,
             "#4d9221"
            ],
            [
             1,
             "#276419"
            ]
           ],
           "sequential": [
            [
             0,
             "#0d0887"
            ],
            [
             0.1111111111111111,
             "#46039f"
            ],
            [
             0.2222222222222222,
             "#7201a8"
            ],
            [
             0.3333333333333333,
             "#9c179e"
            ],
            [
             0.4444444444444444,
             "#bd3786"
            ],
            [
             0.5555555555555556,
             "#d8576b"
            ],
            [
             0.6666666666666666,
             "#ed7953"
            ],
            [
             0.7777777777777778,
             "#fb9f3a"
            ],
            [
             0.8888888888888888,
             "#fdca26"
            ],
            [
             1,
             "#f0f921"
            ]
           ],
           "sequentialminus": [
            [
             0,
             "#0d0887"
            ],
            [
             0.1111111111111111,
             "#46039f"
            ],
            [
             0.2222222222222222,
             "#7201a8"
            ],
            [
             0.3333333333333333,
             "#9c179e"
            ],
            [
             0.4444444444444444,
             "#bd3786"
            ],
            [
             0.5555555555555556,
             "#d8576b"
            ],
            [
             0.6666666666666666,
             "#ed7953"
            ],
            [
             0.7777777777777778,
             "#fb9f3a"
            ],
            [
             0.8888888888888888,
             "#fdca26"
            ],
            [
             1,
             "#f0f921"
            ]
           ]
          },
          "colorway": [
           "#636efa",
           "#EF553B",
           "#00cc96",
           "#ab63fa",
           "#FFA15A",
           "#19d3f3",
           "#FF6692",
           "#B6E880",
           "#FF97FF",
           "#FECB52"
          ],
          "font": {
           "color": "#2a3f5f"
          },
          "geo": {
           "bgcolor": "white",
           "lakecolor": "white",
           "landcolor": "#E5ECF6",
           "showlakes": true,
           "showland": true,
           "subunitcolor": "white"
          },
          "hoverlabel": {
           "align": "left"
          },
          "hovermode": "closest",
          "mapbox": {
           "style": "light"
          },
          "paper_bgcolor": "white",
          "plot_bgcolor": "#E5ECF6",
          "polar": {
           "angularaxis": {
            "gridcolor": "white",
            "linecolor": "white",
            "ticks": ""
           },
           "bgcolor": "#E5ECF6",
           "radialaxis": {
            "gridcolor": "white",
            "linecolor": "white",
            "ticks": ""
           }
          },
          "scene": {
           "xaxis": {
            "backgroundcolor": "#E5ECF6",
            "gridcolor": "white",
            "gridwidth": 2,
            "linecolor": "white",
            "showbackground": true,
            "ticks": "",
            "zerolinecolor": "white"
           },
           "yaxis": {
            "backgroundcolor": "#E5ECF6",
            "gridcolor": "white",
            "gridwidth": 2,
            "linecolor": "white",
            "showbackground": true,
            "ticks": "",
            "zerolinecolor": "white"
           },
           "zaxis": {
            "backgroundcolor": "#E5ECF6",
            "gridcolor": "white",
            "gridwidth": 2,
            "linecolor": "white",
            "showbackground": true,
            "ticks": "",
            "zerolinecolor": "white"
           }
          },
          "shapedefaults": {
           "line": {
            "color": "#2a3f5f"
           }
          },
          "ternary": {
           "aaxis": {
            "gridcolor": "white",
            "linecolor": "white",
            "ticks": ""
           },
           "baxis": {
            "gridcolor": "white",
            "linecolor": "white",
            "ticks": ""
           },
           "bgcolor": "#E5ECF6",
           "caxis": {
            "gridcolor": "white",
            "linecolor": "white",
            "ticks": ""
           }
          },
          "title": {
           "x": 0.05
          },
          "xaxis": {
           "automargin": true,
           "gridcolor": "white",
           "linecolor": "white",
           "ticks": "",
           "title": {
            "standoff": 15
           },
           "zerolinecolor": "white",
           "zerolinewidth": 2
          },
          "yaxis": {
           "automargin": true,
           "gridcolor": "white",
           "linecolor": "white",
           "ticks": "",
           "title": {
            "standoff": 15
           },
           "zerolinecolor": "white",
           "zerolinewidth": 2
          }
         }
        },
        "xaxis": {
         "anchor": "y",
         "domain": [
          0,
          1
         ],
         "title": {
          "text": "Total Spend"
         }
        },
        "yaxis": {
         "anchor": "x",
         "domain": [
          0,
          1
         ],
         "title": {
          "text": "Items Purchased"
         }
        }
       }
      },
      "text/html": [
       "<div>                            <div id=\"dc0c6338-7cd5-4ec8-8eed-73ea800f0573\" class=\"plotly-graph-div\" style=\"height:525px; width:100%;\"></div>            <script type=\"text/javascript\">                require([\"plotly\"], function(Plotly) {                    window.PLOTLYENV=window.PLOTLYENV || {};                                    if (document.getElementById(\"dc0c6338-7cd5-4ec8-8eed-73ea800f0573\")) {                    Plotly.newPlot(                        \"dc0c6338-7cd5-4ec8-8eed-73ea800f0573\",                        [{\"customdata\":[[\"Satisfied\"],[\"Satisfied\"],[\"Satisfied\"],[\"Satisfied\"],[\"Satisfied\"],[\"Satisfied\"],[\"Satisfied\"],[\"Satisfied\"],[\"Satisfied\"],[\"Satisfied\"],[\"Satisfied\"],[\"Satisfied\"],[\"Satisfied\"],[\"Satisfied\"],[\"Satisfied\"],[\"Satisfied\"],[\"Satisfied\"],[\"Satisfied\"],[\"Satisfied\"],[\"Satisfied\"],[\"Satisfied\"],[\"Satisfied\"],[\"Satisfied\"],[\"Satisfied\"],[\"Satisfied\"],[\"Satisfied\"],[\"Satisfied\"],[\"Satisfied\"],[\"Satisfied\"],[\"Satisfied\"],[\"Satisfied\"],[\"Satisfied\"],[\"Satisfied\"],[\"Satisfied\"],[\"Satisfied\"],[\"Satisfied\"],[\"Satisfied\"],[\"Satisfied\"],[\"Satisfied\"],[\"Satisfied\"],[\"Satisfied\"],[\"Satisfied\"],[\"Satisfied\"],[\"Satisfied\"],[\"Satisfied\"],[\"Satisfied\"],[\"Satisfied\"],[\"Satisfied\"],[\"Satisfied\"],[\"Satisfied\"],[\"Satisfied\"],[\"Satisfied\"],[\"Satisfied\"],[\"Satisfied\"],[\"Satisfied\"],[\"Satisfied\"],[\"Satisfied\"],[\"Satisfied\"],[\"Satisfied\"],[\"Satisfied\"],[\"Satisfied\"],[\"Satisfied\"],[\"Satisfied\"],[\"Satisfied\"],[\"Satisfied\"],[\"Satisfied\"],[\"Satisfied\"],[\"Satisfied\"],[\"Satisfied\"],[\"Satisfied\"],[\"Satisfied\"],[\"Satisfied\"],[\"Satisfied\"],[\"Satisfied\"],[\"Satisfied\"],[\"Satisfied\"],[\"Satisfied\"],[\"Satisfied\"],[\"Satisfied\"],[\"Satisfied\"],[\"Satisfied\"],[\"Satisfied\"],[\"Satisfied\"],[\"Satisfied\"],[\"Satisfied\"],[\"Satisfied\"],[\"Satisfied\"],[\"Satisfied\"],[\"Satisfied\"],[\"Satisfied\"],[\"Satisfied\"],[\"Satisfied\"],[\"Satisfied\"],[\"Satisfied\"],[\"Satisfied\"],[\"Satisfied\"],[\"Satisfied\"],[\"Satisfied\"],[\"Satisfied\"],[\"Satisfied\"],[\"Satisfied\"],[\"Satisfied\"],[\"Satisfied\"],[\"Satisfied\"],[\"Satisfied\"],[\"Satisfied\"],[\"Satisfied\"],[\"Satisfied\"],[\"Satisfied\"],[\"Satisfied\"],[\"Satisfied\"],[\"Satisfied\"],[\"Satisfied\"],[\"Satisfied\"],[\"Satisfied\"],[\"Satisfied\"],[\"Satisfied\"],[\"Satisfied\"],[\"Satisfied\"],[\"Satisfied\"],[\"Satisfied\"],[\"Satisfied\"],[\"Satisfied\"],[\"Satisfied\"],[\"Satisfied\"]],\"hovertemplate\":\"Satisfaction Level=%{customdata[0]}<br>Total Spend=%{x}<br>Items Purchased=%{y}<extra></extra>\",\"legendgroup\":\"Satisfied\",\"marker\":{\"color\":\"#636efa\",\"symbol\":\"circle\"},\"mode\":\"markers\",\"name\":\"Satisfied\",\"orientation\":\"v\",\"showlegend\":true,\"x\":[1120.2,1480.3,1150.6,1520.1,1200.8,820.75,1360.2,1170.3,1470.5,1140.6,1500.1,1190.8,830.75,1370.2,1160.3,1460.5,1130.6,1490.1,1180.8,1470.5,1140.6,1500.1,1190.8,830.75,1370.2,1160.3,1460.5,1130.6,1490.1,1180.8,1470.5,1140.6,1500.1,1190.8,830.75,1370.2,1160.3,1460.5,1130.6,1490.1,1180.8,1470.5,1140.6,1500.1,1190.8,830.75,1370.2,1160.3,1460.5,1130.6,1490.1,1180.8,1470.5,1130.6,1490.1,1180.8,1470.5,1140.6,1500.1,1190.8,830.75,1370.2,1160.3,1460.5,1140.6,1490.1,1180.8,1470.5,1130.6,1500.1,1190.8,830.75,1370.2,1160.3,1420.8,1210.6,1390.2,1170.3,1450.5,1130.6,1490.1,1180.8,1470.5,1140.6,1500.1,1190.8,830.75,1370.2,1160.3,1460.5,1150.6,1480.1,1170.8,1440.5,1160.6,1490.1,1200.8,1460.5,1140.6,1480.1,1190.8,1450.5,1160.6,1490.1,1200.8,1460.5,1140.6,1480.1,1190.8,1450.5,1160.6,1490.1,1200.8,1460.5,1140.6,1480.1,1190.8,1450.5,1160.6,1490.1,1200.8,1460.5,1140.6,1480.1,1190.8],\"xaxis\":\"x\",\"y\":[14,19,15,21,16,13,18,14,20,15,21,16,13,18,14,20,15,21,16,20,15,21,16,13,18,14,20,15,21,16,20,15,21,16,13,18,14,20,15,21,16,20,15,21,16,13,18,14,20,15,21,16,20,15,21,16,20,15,21,16,13,18,14,20,15,21,16,20,15,21,16,13,18,14,19,17,18,14,20,15,21,16,20,15,21,16,13,18,14,20,15,21,16,19,15,21,16,20,15,21,16,19,15,21,16,20,15,21,16,19,15,21,16,20,15,21,16,19,15,21,16,20,15,21,16],\"yaxis\":\"y\",\"type\":\"scatter\"},{\"customdata\":[[\"Neutral\"],[\"Neutral\"],[\"Neutral\"],[\"Neutral\"],[\"Neutral\"],[\"Neutral\"],[\"Neutral\"],[\"Neutral\"],[\"Neutral\"],[\"Neutral\"],[\"Neutral\"],[\"Neutral\"],[\"Neutral\"],[\"Neutral\"],[\"Neutral\"],[\"Neutral\"],[\"Neutral\"],[\"Neutral\"],[\"Neutral\"],[\"Neutral\"],[\"Neutral\"],[\"Neutral\"],[\"Neutral\"],[\"Neutral\"],[\"Neutral\"],[\"Neutral\"],[\"Neutral\"],[\"Neutral\"],[\"Neutral\"],[\"Neutral\"],[\"Neutral\"],[\"Neutral\"],[\"Neutral\"],[\"Neutral\"],[\"Neutral\"],[\"Neutral\"],[\"Neutral\"],[\"Neutral\"],[\"Neutral\"],[\"Neutral\"],[\"Neutral\"],[\"Neutral\"],[\"Neutral\"],[\"Neutral\"],[\"Neutral\"],[\"Neutral\"],[\"Neutral\"],[\"Neutral\"],[\"Neutral\"],[\"Neutral\"],[\"Neutral\"],[\"Neutral\"],[\"Neutral\"],[\"Neutral\"],[\"Neutral\"],[\"Neutral\"],[\"Neutral\"],[\"Neutral\"],[\"Neutral\"],[\"Neutral\"],[\"Neutral\"],[\"Neutral\"],[\"Neutral\"],[\"Neutral\"],[\"Neutral\"],[\"Neutral\"],[\"Neutral\"],[\"Neutral\"],[\"Neutral\"],[\"Neutral\"],[\"Neutral\"],[\"Neutral\"],[\"Neutral\"],[\"Neutral\"],[\"Neutral\"],[\"Neutral\"],[\"Neutral\"],[\"Neutral\"],[\"Neutral\"],[\"Neutral\"],[\"Neutral\"],[\"Neutral\"],[\"Neutral\"],[\"Neutral\"],[\"Neutral\"],[\"Neutral\"],[\"Neutral\"],[\"Neutral\"],[\"Neutral\"],[\"Neutral\"],[\"Neutral\"],[\"Neutral\"],[\"Neutral\"],[\"Neutral\"],[\"Neutral\"],[\"Neutral\"],[\"Neutral\"],[\"Neutral\"],[\"Neutral\"],[\"Neutral\"],[\"Neutral\"],[\"Neutral\"],[\"Neutral\"],[\"Neutral\"],[\"Neutral\"],[\"Neutral\"],[\"Neutral\"]],\"hovertemplate\":\"Satisfaction Level=%{customdata[0]}<br>Total Spend=%{x}<br>Items Purchased=%{y}<extra></extra>\",\"legendgroup\":\"Neutral\",\"marker\":{\"color\":\"#EF553B\",\"symbol\":\"circle\"},\"mode\":\"markers\",\"name\":\"Neutral\",\"orientation\":\"v\",\"showlegend\":true,\"x\":[780.5,440.8,800.9,470.5,450.9,790.2,430.8,810.9,460.5,440.9,800.2,420.8,820.9,470.5,790.2,430.8,810.9,460.5,440.9,800.2,820.9,470.5,790.2,430.8,810.9,460.5,440.9,800.2,420.8,820.9,470.5,790.2,430.8,810.9,460.5,440.9,800.2,420.8,820.9,470.5,790.2,820.9,470.5,790.2,430.8,810.9,460.5,440.9,800.2,430.8,820.9,470.5,790.2,430.8,820.9,460.5,440.9,800.2,450.6,780.9,460.9,810.2,420.8,820.9,470.5,790.2,430.8,820.9,460.5,440.9,800.2,440.8,830.9,480.5,790.2,410.8,810.9,430.5,780.2,450.8,800.9,470.5,770.2,430.8,820.9,440.5,780.2,450.8,800.9,470.5,800.2,430.8,820.9,440.5,780.2,450.8,800.9,470.5,780.2,430.8,820.9,440.5,780.2,450.8,800.9,470.5,780.2],\"xaxis\":\"x\",\"y\":[11,8,12,7,8,11,7,12,8,8,11,7,12,8,11,7,12,8,8,11,12,8,11,7,12,8,8,11,7,12,8,11,7,12,8,8,11,7,12,8,11,12,8,11,7,12,8,8,11,7,12,8,11,7,12,8,8,11,7,11,8,11,7,12,8,11,7,12,8,8,11,7,12,8,11,7,12,8,11,7,12,8,11,7,12,8,11,7,12,8,11,7,12,8,11,7,12,8,11,7,12,8,11,7,12,8,11],\"yaxis\":\"y\",\"type\":\"scatter\"},{\"customdata\":[[\"Unsatisfied\"],[\"Unsatisfied\"],[\"Unsatisfied\"],[\"Unsatisfied\"],[\"Unsatisfied\"],[\"Unsatisfied\"],[\"Unsatisfied\"],[\"Unsatisfied\"],[\"Unsatisfied\"],[\"Unsatisfied\"],[\"Unsatisfied\"],[\"Unsatisfied\"],[\"Unsatisfied\"],[\"Unsatisfied\"],[\"Unsatisfied\"],[\"Unsatisfied\"],[\"Unsatisfied\"],[\"Unsatisfied\"],[\"Unsatisfied\"],[\"Unsatisfied\"],[\"Unsatisfied\"],[\"Unsatisfied\"],[\"Unsatisfied\"],[\"Unsatisfied\"],[\"Unsatisfied\"],[\"Unsatisfied\"],[\"Unsatisfied\"],[\"Unsatisfied\"],[\"Unsatisfied\"],[\"Unsatisfied\"],[\"Unsatisfied\"],[\"Unsatisfied\"],[\"Unsatisfied\"],[\"Unsatisfied\"],[\"Unsatisfied\"],[\"Unsatisfied\"],[\"Unsatisfied\"],[\"Unsatisfied\"],[\"Unsatisfied\"],[\"Unsatisfied\"],[\"Unsatisfied\"],[\"Unsatisfied\"],[\"Unsatisfied\"],[\"Unsatisfied\"],[\"Unsatisfied\"],[\"Unsatisfied\"],[\"Unsatisfied\"],[\"Unsatisfied\"],[\"Unsatisfied\"],[\"Unsatisfied\"],[\"Unsatisfied\"],[\"Unsatisfied\"],[\"Unsatisfied\"],[\"Unsatisfied\"],[\"Unsatisfied\"],[\"Unsatisfied\"],[\"Unsatisfied\"],[\"Unsatisfied\"],[\"Unsatisfied\"],[\"Unsatisfied\"],[\"Unsatisfied\"],[\"Unsatisfied\"],[\"Unsatisfied\"],[\"Unsatisfied\"],[\"Unsatisfied\"],[\"Unsatisfied\"],[\"Unsatisfied\"],[\"Unsatisfied\"],[\"Unsatisfied\"],[\"Unsatisfied\"],[\"Unsatisfied\"],[\"Unsatisfied\"],[\"Unsatisfied\"],[\"Unsatisfied\"],[\"Unsatisfied\"],[\"Unsatisfied\"],[\"Unsatisfied\"],[\"Unsatisfied\"],[\"Unsatisfied\"],[\"Unsatisfied\"],[\"Unsatisfied\"],[\"Unsatisfied\"],[\"Unsatisfied\"],[\"Unsatisfied\"],[\"Unsatisfied\"],[\"Unsatisfied\"],[\"Unsatisfied\"],[\"Unsatisfied\"],[\"Unsatisfied\"],[\"Unsatisfied\"],[\"Unsatisfied\"],[\"Unsatisfied\"],[\"Unsatisfied\"],[\"Unsatisfied\"],[\"Unsatisfied\"],[\"Unsatisfied\"],[\"Unsatisfied\"],[\"Unsatisfied\"],[\"Unsatisfied\"],[\"Unsatisfied\"],[\"Unsatisfied\"],[\"Unsatisfied\"],[\"Unsatisfied\"],[\"Unsatisfied\"],[\"Unsatisfied\"],[\"Unsatisfied\"],[\"Unsatisfied\"],[\"Unsatisfied\"],[\"Unsatisfied\"],[\"Unsatisfied\"],[\"Unsatisfied\"],[\"Unsatisfied\"],[\"Unsatisfied\"],[\"Unsatisfied\"],[\"Unsatisfied\"],[\"Unsatisfied\"]],\"hovertemplate\":\"Satisfaction Level=%{customdata[0]}<br>Total Spend=%{x}<br>Items Purchased=%{y}<extra></extra>\",\"legendgroup\":\"Unsatisfied\",\"marker\":{\"color\":\"#00cc96\",\"symbol\":\"circle\"},\"mode\":\"markers\",\"name\":\"Unsatisfied\",\"orientation\":\"v\",\"showlegend\":true,\"x\":[510.75,720.4,495.25,690.3,530.4,700.6,505.75,710.4,485.25,670.3,520.4,690.6,500.75,700.4,480.25,680.3,505.75,710.4,485.25,670.3,520.4,690.6,500.75,700.4,480.25,680.3,505.75,710.4,485.25,670.3,520.4,690.6,500.75,700.4,480.25,680.3,505.75,710.4,485.25,670.3,520.4,690.6,500.75,700.4,480.25,680.3,505.75,710.4,480.25,680.3,505.75,710.4,485.25,670.3,520.4,690.6,500.75,700.4,480.25,680.3,505.75,710.4,485.25,670.3,520.4,690.6,730.4,495.25,670.6,515.75,690.4,480.25,680.3,505.75,710.4,485.25,670.3,520.4,690.6,525.75,720.4,490.25,690.3,510.75,700.4,495.25,660.3,505.75,710.4,475.25,660.3,515.75,710.4,495.25,660.3,505.75,710.4,475.25,660.3,515.75,710.4,495.25,660.3,505.75,710.4,475.25,660.3,515.75,710.4,495.25,660.3,505.75,710.4,475.25,660.3,515.75],\"xaxis\":\"x\",\"y\":[9,13,10,11,9,12,10,13,9,10,9,12,10,13,9,10,10,13,9,10,9,12,10,13,9,10,10,13,9,10,9,12,10,13,9,10,10,13,9,10,9,12,10,13,9,10,10,13,9,10,10,13,9,10,9,12,10,13,9,10,10,13,9,10,9,12,14,10,12,9,13,9,10,10,13,9,10,9,12,9,13,9,10,10,13,9,10,10,13,9,10,10,13,9,10,10,13,9,10,10,13,9,10,10,13,9,10,10,13,9,10,10,13,9,10,10],\"yaxis\":\"y\",\"type\":\"scatter\"}],                        {\"template\":{\"data\":{\"histogram2dcontour\":[{\"type\":\"histogram2dcontour\",\"colorbar\":{\"outlinewidth\":0,\"ticks\":\"\"},\"colorscale\":[[0.0,\"#0d0887\"],[0.1111111111111111,\"#46039f\"],[0.2222222222222222,\"#7201a8\"],[0.3333333333333333,\"#9c179e\"],[0.4444444444444444,\"#bd3786\"],[0.5555555555555556,\"#d8576b\"],[0.6666666666666666,\"#ed7953\"],[0.7777777777777778,\"#fb9f3a\"],[0.8888888888888888,\"#fdca26\"],[1.0,\"#f0f921\"]]}],\"choropleth\":[{\"type\":\"choropleth\",\"colorbar\":{\"outlinewidth\":0,\"ticks\":\"\"}}],\"histogram2d\":[{\"type\":\"histogram2d\",\"colorbar\":{\"outlinewidth\":0,\"ticks\":\"\"},\"colorscale\":[[0.0,\"#0d0887\"],[0.1111111111111111,\"#46039f\"],[0.2222222222222222,\"#7201a8\"],[0.3333333333333333,\"#9c179e\"],[0.4444444444444444,\"#bd3786\"],[0.5555555555555556,\"#d8576b\"],[0.6666666666666666,\"#ed7953\"],[0.7777777777777778,\"#fb9f3a\"],[0.8888888888888888,\"#fdca26\"],[1.0,\"#f0f921\"]]}],\"heatmap\":[{\"type\":\"heatmap\",\"colorbar\":{\"outlinewidth\":0,\"ticks\":\"\"},\"colorscale\":[[0.0,\"#0d0887\"],[0.1111111111111111,\"#46039f\"],[0.2222222222222222,\"#7201a8\"],[0.3333333333333333,\"#9c179e\"],[0.4444444444444444,\"#bd3786\"],[0.5555555555555556,\"#d8576b\"],[0.6666666666666666,\"#ed7953\"],[0.7777777777777778,\"#fb9f3a\"],[0.8888888888888888,\"#fdca26\"],[1.0,\"#f0f921\"]]}],\"heatmapgl\":[{\"type\":\"heatmapgl\",\"colorbar\":{\"outlinewidth\":0,\"ticks\":\"\"},\"colorscale\":[[0.0,\"#0d0887\"],[0.1111111111111111,\"#46039f\"],[0.2222222222222222,\"#7201a8\"],[0.3333333333333333,\"#9c179e\"],[0.4444444444444444,\"#bd3786\"],[0.5555555555555556,\"#d8576b\"],[0.6666666666666666,\"#ed7953\"],[0.7777777777777778,\"#fb9f3a\"],[0.8888888888888888,\"#fdca26\"],[1.0,\"#f0f921\"]]}],\"contourcarpet\":[{\"type\":\"contourcarpet\",\"colorbar\":{\"outlinewidth\":0,\"ticks\":\"\"}}],\"contour\":[{\"type\":\"contour\",\"colorbar\":{\"outlinewidth\":0,\"ticks\":\"\"},\"colorscale\":[[0.0,\"#0d0887\"],[0.1111111111111111,\"#46039f\"],[0.2222222222222222,\"#7201a8\"],[0.3333333333333333,\"#9c179e\"],[0.4444444444444444,\"#bd3786\"],[0.5555555555555556,\"#d8576b\"],[0.6666666666666666,\"#ed7953\"],[0.7777777777777778,\"#fb9f3a\"],[0.8888888888888888,\"#fdca26\"],[1.0,\"#f0f921\"]]}],\"surface\":[{\"type\":\"surface\",\"colorbar\":{\"outlinewidth\":0,\"ticks\":\"\"},\"colorscale\":[[0.0,\"#0d0887\"],[0.1111111111111111,\"#46039f\"],[0.2222222222222222,\"#7201a8\"],[0.3333333333333333,\"#9c179e\"],[0.4444444444444444,\"#bd3786\"],[0.5555555555555556,\"#d8576b\"],[0.6666666666666666,\"#ed7953\"],[0.7777777777777778,\"#fb9f3a\"],[0.8888888888888888,\"#fdca26\"],[1.0,\"#f0f921\"]]}],\"mesh3d\":[{\"type\":\"mesh3d\",\"colorbar\":{\"outlinewidth\":0,\"ticks\":\"\"}}],\"scatter\":[{\"fillpattern\":{\"fillmode\":\"overlay\",\"size\":10,\"solidity\":0.2},\"type\":\"scatter\"}],\"parcoords\":[{\"type\":\"parcoords\",\"line\":{\"colorbar\":{\"outlinewidth\":0,\"ticks\":\"\"}}}],\"scatterpolargl\":[{\"type\":\"scatterpolargl\",\"marker\":{\"colorbar\":{\"outlinewidth\":0,\"ticks\":\"\"}}}],\"bar\":[{\"error_x\":{\"color\":\"#2a3f5f\"},\"error_y\":{\"color\":\"#2a3f5f\"},\"marker\":{\"line\":{\"color\":\"#E5ECF6\",\"width\":0.5},\"pattern\":{\"fillmode\":\"overlay\",\"size\":10,\"solidity\":0.2}},\"type\":\"bar\"}],\"scattergeo\":[{\"type\":\"scattergeo\",\"marker\":{\"colorbar\":{\"outlinewidth\":0,\"ticks\":\"\"}}}],\"scatterpolar\":[{\"type\":\"scatterpolar\",\"marker\":{\"colorbar\":{\"outlinewidth\":0,\"ticks\":\"\"}}}],\"histogram\":[{\"marker\":{\"pattern\":{\"fillmode\":\"overlay\",\"size\":10,\"solidity\":0.2}},\"type\":\"histogram\"}],\"scattergl\":[{\"type\":\"scattergl\",\"marker\":{\"colorbar\":{\"outlinewidth\":0,\"ticks\":\"\"}}}],\"scatter3d\":[{\"type\":\"scatter3d\",\"line\":{\"colorbar\":{\"outlinewidth\":0,\"ticks\":\"\"}},\"marker\":{\"colorbar\":{\"outlinewidth\":0,\"ticks\":\"\"}}}],\"scattermapbox\":[{\"type\":\"scattermapbox\",\"marker\":{\"colorbar\":{\"outlinewidth\":0,\"ticks\":\"\"}}}],\"scatterternary\":[{\"type\":\"scatterternary\",\"marker\":{\"colorbar\":{\"outlinewidth\":0,\"ticks\":\"\"}}}],\"scattercarpet\":[{\"type\":\"scattercarpet\",\"marker\":{\"colorbar\":{\"outlinewidth\":0,\"ticks\":\"\"}}}],\"carpet\":[{\"aaxis\":{\"endlinecolor\":\"#2a3f5f\",\"gridcolor\":\"white\",\"linecolor\":\"white\",\"minorgridcolor\":\"white\",\"startlinecolor\":\"#2a3f5f\"},\"baxis\":{\"endlinecolor\":\"#2a3f5f\",\"gridcolor\":\"white\",\"linecolor\":\"white\",\"minorgridcolor\":\"white\",\"startlinecolor\":\"#2a3f5f\"},\"type\":\"carpet\"}],\"table\":[{\"cells\":{\"fill\":{\"color\":\"#EBF0F8\"},\"line\":{\"color\":\"white\"}},\"header\":{\"fill\":{\"color\":\"#C8D4E3\"},\"line\":{\"color\":\"white\"}},\"type\":\"table\"}],\"barpolar\":[{\"marker\":{\"line\":{\"color\":\"#E5ECF6\",\"width\":0.5},\"pattern\":{\"fillmode\":\"overlay\",\"size\":10,\"solidity\":0.2}},\"type\":\"barpolar\"}],\"pie\":[{\"automargin\":true,\"type\":\"pie\"}]},\"layout\":{\"autotypenumbers\":\"strict\",\"colorway\":[\"#636efa\",\"#EF553B\",\"#00cc96\",\"#ab63fa\",\"#FFA15A\",\"#19d3f3\",\"#FF6692\",\"#B6E880\",\"#FF97FF\",\"#FECB52\"],\"font\":{\"color\":\"#2a3f5f\"},\"hovermode\":\"closest\",\"hoverlabel\":{\"align\":\"left\"},\"paper_bgcolor\":\"white\",\"plot_bgcolor\":\"#E5ECF6\",\"polar\":{\"bgcolor\":\"#E5ECF6\",\"angularaxis\":{\"gridcolor\":\"white\",\"linecolor\":\"white\",\"ticks\":\"\"},\"radialaxis\":{\"gridcolor\":\"white\",\"linecolor\":\"white\",\"ticks\":\"\"}},\"ternary\":{\"bgcolor\":\"#E5ECF6\",\"aaxis\":{\"gridcolor\":\"white\",\"linecolor\":\"white\",\"ticks\":\"\"},\"baxis\":{\"gridcolor\":\"white\",\"linecolor\":\"white\",\"ticks\":\"\"},\"caxis\":{\"gridcolor\":\"white\",\"linecolor\":\"white\",\"ticks\":\"\"}},\"coloraxis\":{\"colorbar\":{\"outlinewidth\":0,\"ticks\":\"\"}},\"colorscale\":{\"sequential\":[[0.0,\"#0d0887\"],[0.1111111111111111,\"#46039f\"],[0.2222222222222222,\"#7201a8\"],[0.3333333333333333,\"#9c179e\"],[0.4444444444444444,\"#bd3786\"],[0.5555555555555556,\"#d8576b\"],[0.6666666666666666,\"#ed7953\"],[0.7777777777777778,\"#fb9f3a\"],[0.8888888888888888,\"#fdca26\"],[1.0,\"#f0f921\"]],\"sequentialminus\":[[0.0,\"#0d0887\"],[0.1111111111111111,\"#46039f\"],[0.2222222222222222,\"#7201a8\"],[0.3333333333333333,\"#9c179e\"],[0.4444444444444444,\"#bd3786\"],[0.5555555555555556,\"#d8576b\"],[0.6666666666666666,\"#ed7953\"],[0.7777777777777778,\"#fb9f3a\"],[0.8888888888888888,\"#fdca26\"],[1.0,\"#f0f921\"]],\"diverging\":[[0,\"#8e0152\"],[0.1,\"#c51b7d\"],[0.2,\"#de77ae\"],[0.3,\"#f1b6da\"],[0.4,\"#fde0ef\"],[0.5,\"#f7f7f7\"],[0.6,\"#e6f5d0\"],[0.7,\"#b8e186\"],[0.8,\"#7fbc41\"],[0.9,\"#4d9221\"],[1,\"#276419\"]]},\"xaxis\":{\"gridcolor\":\"white\",\"linecolor\":\"white\",\"ticks\":\"\",\"title\":{\"standoff\":15},\"zerolinecolor\":\"white\",\"automargin\":true,\"zerolinewidth\":2},\"yaxis\":{\"gridcolor\":\"white\",\"linecolor\":\"white\",\"ticks\":\"\",\"title\":{\"standoff\":15},\"zerolinecolor\":\"white\",\"automargin\":true,\"zerolinewidth\":2},\"scene\":{\"xaxis\":{\"backgroundcolor\":\"#E5ECF6\",\"gridcolor\":\"white\",\"linecolor\":\"white\",\"showbackground\":true,\"ticks\":\"\",\"zerolinecolor\":\"white\",\"gridwidth\":2},\"yaxis\":{\"backgroundcolor\":\"#E5ECF6\",\"gridcolor\":\"white\",\"linecolor\":\"white\",\"showbackground\":true,\"ticks\":\"\",\"zerolinecolor\":\"white\",\"gridwidth\":2},\"zaxis\":{\"backgroundcolor\":\"#E5ECF6\",\"gridcolor\":\"white\",\"linecolor\":\"white\",\"showbackground\":true,\"ticks\":\"\",\"zerolinecolor\":\"white\",\"gridwidth\":2}},\"shapedefaults\":{\"line\":{\"color\":\"#2a3f5f\"}},\"annotationdefaults\":{\"arrowcolor\":\"#2a3f5f\",\"arrowhead\":0,\"arrowwidth\":1},\"geo\":{\"bgcolor\":\"white\",\"landcolor\":\"#E5ECF6\",\"subunitcolor\":\"white\",\"showland\":true,\"showlakes\":true,\"lakecolor\":\"white\"},\"title\":{\"x\":0.05},\"mapbox\":{\"style\":\"light\"}}},\"xaxis\":{\"anchor\":\"y\",\"domain\":[0.0,1.0],\"title\":{\"text\":\"Total Spend\"}},\"yaxis\":{\"anchor\":\"x\",\"domain\":[0.0,1.0],\"title\":{\"text\":\"Items Purchased\"}},\"legend\":{\"title\":{\"text\":\"Satisfaction Level\"},\"tracegroupgap\":0},\"margin\":{\"t\":60}},                        {\"responsive\": true}                    ).then(function(){\n",
       "                            \n",
       "var gd = document.getElementById('dc0c6338-7cd5-4ec8-8eed-73ea800f0573');\n",
       "var x = new MutationObserver(function (mutations, observer) {{\n",
       "        var display = window.getComputedStyle(gd).display;\n",
       "        if (!display || display === 'none') {{\n",
       "            console.log([gd, 'removed!']);\n",
       "            Plotly.purge(gd);\n",
       "            observer.disconnect();\n",
       "        }}\n",
       "}});\n",
       "\n",
       "// Listen for the removal of the full notebook cells\n",
       "var notebookContainer = gd.closest('#notebook-container');\n",
       "if (notebookContainer) {{\n",
       "    x.observe(notebookContainer, {childList: true});\n",
       "}}\n",
       "\n",
       "// Listen for the clearing of the current output cell\n",
       "var outputEl = gd.closest('.output');\n",
       "if (outputEl) {{\n",
       "    x.observe(outputEl, {childList: true});\n",
       "}}\n",
       "\n",
       "                        })                };                });            </script>        </div>"
      ]
     },
     "metadata": {},
     "output_type": "display_data"
    }
   ],
   "source": [
    "fig = px.scatter(df, x='Total Spend', y='Items Purchased', color='Satisfaction Level', hover_data=['Satisfaction Level'])\n",
    "fig.show()"
   ]
  },
  {
   "cell_type": "markdown",
   "id": "2ad80f20",
   "metadata": {},
   "source": [
    "# Regression Plot"
   ]
  },
  {
   "cell_type": "code",
   "execution_count": 22,
   "id": "39040a66",
   "metadata": {},
   "outputs": [
    {
     "data": {
      "image/png": "[encoded data removed]",
      "text/plain": [
       "<Figure size 640x480 with 1 Axes>"
      ]
     },
     "metadata": {},
     "output_type": "display_data"
    }
   ],
   "source": [
    "sns.regplot(x='Total Spend', y='Items Purchased', data=df, scatter_kws={'s': 50, 'color': 'green'}, line_kws={'color': 'yellow'})\n",
    "\n",
    "plt.xlabel('Total Spend')\n",
    "plt.ylabel('Items Purchased')\n",
    "plt.title('Regression Plot: Total Spend vs. Items Purchased')\n",
    "\n",
    "plt.show()"
   ]
  },
  {
   "cell_type": "code",
   "execution_count": null,
   "id": "81095151",
   "metadata": {},
   "outputs": [],
   "source": []
  }
 ],
 "metadata": {
  "kernelspec": {
   "display_name": "Python 3 (ipykernel)",
   "language": "python",
   "name": "python3"
  },
  "language_info": {
   "codemirror_mode": {
    "name": "ipython",
    "version": 3
   },
   "file_extension": ".py",
   "mimetype": "text/x-python",
   "name": "python",
   "nbconvert_exporter": "python",
   "pygments_lexer": "ipython3",
   "version": "3.10.9"
  }
 },
 "nbformat": 4,
 "nbformat_minor": 5
}
